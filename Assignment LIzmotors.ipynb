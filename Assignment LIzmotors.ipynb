{
 "cells": [
  {
   "cell_type": "markdown",
   "id": "695dbc02",
   "metadata": {},
   "source": [
    "# Internship Assignment \n",
    "## AI/ML Intern "
   ]
  },
  {
   "cell_type": "markdown",
   "id": "22fe8329",
   "metadata": {},
   "source": [
    "## Cainoo Basic Info"
   ]
  },
  {
   "cell_type": "code",
   "execution_count": 1,
   "id": "8edc3414",
   "metadata": {},
   "outputs": [
    {
     "name": "stdout",
     "output_type": "stream",
     "text": [
      "\n",
      "\n",
      "Canoo Inc. is an American automotive company based in Torrance, California, that develops and manufactures electric vehicles.[2][3] Canoo's research & development team is based in Michigan, in the Detroit region (Auburn Hills, Livonia), and production operations are in Justin, Texas. The company also plans to produce commercial electric vehicles such as vans for fleet, vehicle rental and ride sharing services.[4]\n",
      "\n",
      "Canoo was founded in 2017 under the name Evelozcity by Stefan Krause and Ulrich Kranz. Krause worked for Deutsche Bank as its chief financial officer while Kranz worked for BMW as a senior executive. Both men met at rival EV company Faraday Future before leaving together to form their own company in 2017, due to disagreement with Faraday Future's leadership. Krause took on the role of chief executive officer at Evelozcity, and Kranz became chief technology officer.[5] The company received its primary funding from Chinese investor Li \"David\" Pak-Tam/Botan and German entrepreneur David Stern.[6][7]\n",
      "\n"
     ]
    }
   ],
   "source": [
    "from bs4 import BeautifulSoup\n",
    "import requests\n",
    "\n",
    "# Fetch the webpage content\n",
    "url = 'https://en.wikipedia.org/wiki/Canoo'\n",
    "response = requests.get(url)\n",
    "html_content = response.content\n",
    "\n",
    "# Create a BeautifulSoup object\n",
    "soup = BeautifulSoup(html_content, 'html.parser')\n",
    "\n",
    "# Find the paragraph by its tag\n",
    "paragraph = soup.find_all('p')\n",
    "\n",
    "# Get the text of the paragraph\n",
    "for i in range(3):\n",
    "    print(paragraph[i].get_text())\n"
   ]
  },
  {
   "cell_type": "code",
   "execution_count": 2,
   "id": "352621c0",
   "metadata": {},
   "outputs": [
    {
     "data": {
      "text/plain": [
       "['\\n',\n",
       " \"Canoo Inc. is an American automotive company based in Torrance, California, that develops and manufactures electric vehicles. Canoo's research & development team is based in Michigan, in the Detroit region (Auburn Hills, Livonia), and production operations are in Justin, Texas. The company also plans to produce commercial electric vehicles such as vans for fleet, vehicle rental and ride sharing services.\\n\",\n",
       " 'Canoo was founded in 2017 under the name Evelozcity by Stefan Krause and Ulrich Kranz. Krause worked for Deutsche Bank as its chief financial officer while Kranz worked for BMW as a senior executive. Both men met at rival EV company Faraday Future before leaving together to form their own company in 2017, due to disagreement with Faraday Future\\'s leadership. Krause took on the role of chief executive officer at Evelozcity, and Kranz became chief technology officer. The company received its primary funding from Chinese investor Li \"David\" Pak-Tam/Botan and German entrepreneur David Stern.\\n']"
      ]
     },
     "execution_count": 2,
     "metadata": {},
     "output_type": "execute_result"
    }
   ],
   "source": [
    "# using regular expressions to remove unvanted numbers and brackets\n",
    "import re\n",
    "info_canoo =[None, None, None]\n",
    "for i in range(len(info_canoo)):\n",
    "    info_canoo[i] = paragraph[i].get_text()\n",
    "    info_canoo[i] =re.sub(r\"\\[.*?\\]\", \"\", info_canoo[i])\n",
    "info_canoo"
   ]
  },
  {
   "cell_type": "code",
   "execution_count": 3,
   "id": "56b1a8db",
   "metadata": {},
   "outputs": [
    {
     "name": "stdout",
     "output_type": "stream",
     "text": [
      "\n",
      "\n",
      "Canoo Inc. is an American automotive company based in Torrance, California, that develops and manufactures electric vehicles. Canoo's research & development team is based in Michigan, in the Detroit region (Auburn Hills, Livonia), and production operations are in Justin, Texas. The company also plans to produce commercial electric vehicles such as vans for fleet, vehicle rental and ride sharing services.\n",
      "\n",
      "Canoo was founded in 2017 under the name Evelozcity by Stefan Krause and Ulrich Kranz. Krause worked for Deutsche Bank as its chief financial officer while Kranz worked for BMW as a senior executive. Both men met at rival EV company Faraday Future before leaving together to form their own company in 2017, due to disagreement with Faraday Future's leadership. Krause took on the role of chief executive officer at Evelozcity, and Kranz became chief technology officer. The company received its primary funding from Chinese investor Li \"David\" Pak-Tam/Botan and German entrepreneur David Stern.\n",
      "\n"
     ]
    }
   ],
   "source": [
    "for i in range(len(info_canoo)):\n",
    "               \n",
    "                print(info_canoo[i])"
   ]
  },
  {
   "cell_type": "code",
   "execution_count": 4,
   "id": "b136bf92",
   "metadata": {},
   "outputs": [
    {
     "name": "stdout",
     "output_type": "stream",
     "text": [
      "Canoo's mission is to bring EVs to Everyone. The company has developed breakthrough Multi-Purpose Platforms and digital ecosystems that are reinventing the automotive landscape with bold innovations in design, pioneering technologies, and a unique business model that spans the full lifecycle of the vehicle.\n",
      "Distinguished by its experienced team from leading technology and automotive companies – Canoo has designed a modular electric platform purpose-built to deliver maximum vehicle interior space that is customizable across all owners in the vehicle lifecycle to support a wide range of vehicle applications for consumers and businesses.\n"
     ]
    }
   ],
   "source": [
    "# Fetch the webpage content\n",
    "url = \"https://www.canoo.com/about/\"\n",
    "response = requests.get(url)\n",
    "html_content = response.content\n",
    "\n",
    "# Create a BeautifulSoup object\n",
    "soup = BeautifulSoup(html_content, 'html.parser')\n",
    "\n",
    "# Find the paragraph by its tag\n",
    "paragraph = soup.find_all('p')\n",
    "for i in range(2):\n",
    "    print(paragraph[i].get_text())"
   ]
  },
  {
   "cell_type": "code",
   "execution_count": 5,
   "id": "d2ff5b2f",
   "metadata": {},
   "outputs": [],
   "source": [
    "#saving the data in list\n",
    "vision_canoo =[None, None]\n",
    "for i in range(len(vision_canoo)):\n",
    "    vision_canoo[i] = paragraph[i].get_text()"
   ]
  },
  {
   "cell_type": "code",
   "execution_count": 6,
   "id": "177def02",
   "metadata": {},
   "outputs": [
    {
     "data": {
      "text/plain": [
       "[\"Canoo's\\xa0mission is to bring EVs to Everyone. The company has developed breakthrough Multi-Purpose Platforms and digital ecosystems that are reinventing the automotive landscape with bold innovations in design, pioneering technologies, and a unique business model that spans the full lifecycle of the vehicle.\",\n",
       " 'Distinguished by its experienced team from leading technology and automotive companies –\\xa0Canoo\\xa0has designed a modular electric platform purpose-built to deliver maximum vehicle interior space that is customizable across all owners in the vehicle lifecycle to support a wide range of vehicle applications for consumers and businesses.']"
      ]
     },
     "execution_count": 6,
     "metadata": {},
     "output_type": "execute_result"
    }
   ],
   "source": [
    "vision_canoo"
   ]
  },
  {
   "cell_type": "code",
   "execution_count": 6,
   "id": "a527f26b",
   "metadata": {},
   "outputs": [],
   "source": [
    "\n",
    "import scrapy"
   ]
  },
  {
   "cell_type": "code",
   "execution_count": 7,
   "id": "e5414694",
   "metadata": {},
   "outputs": [],
   "source": [
    "#using scrapy spider to extract specific content\n",
    "class MySpider(scrapy.Spider):\n",
    "    name = 'my_spider'\n",
    "    start_urls = ['https://tracxn.com/d/companies/canoo/__HfVDFR8zT4sJ0XU0CVBHJ1P1CTyblbW8viNKwk579vE', ]\n",
    "\n",
    "    \n",
    "\n",
    "    def parse(self, response):\n",
    "        Profile =  response.xpath(\".//div[@class='txn--seo-companies__question-wrapper txn--margin-vertical-24 txn--margin-top-clear']/div/text()\").get()\n",
    "        Employee_Count = response.xpath(\".//span[@class='txn--flex-1']/text()\").get()\n",
    "        Revenue= response.xpath(\".//dl[@class='txn--seo-comp__key-metrics__list txn--margin-clear txn--margin-left-xs']//dd[@class='txn--seo-comp__key-metrics__metric__value txn--flex-1']/text()\").get()\n",
    "        key_investors=response.xpath(\".//ul/li[@class='txn--margin-bottom-8']/a[contains(@href, '/a/d/company')]/text()\").getall()\n",
    "        Directors= response.xpath(\".//ul/li[@class='txn--margin-bottom-8']/a[contains(@href, '/a/d/people')]/text()\").getall()\n",
    "        Competetors= response.xpath(\".//ul/li[@class='txn--margin-bottom-8']/a[contains(@href, '/d/companies')]/text()\").getall()\n",
    "        \n",
    "        yield{\"Employee Count\":Employee_Count,\n",
    "              \"Annual Revenue\":Revenue,\n",
    "              \"Company Profile\": Profile,\n",
    "              \"Key Investors\": key_investors, \n",
    "              \"Directors\":Directors, \n",
    "              \"Competetors\":Competetors,\n",
    "              }    \n",
    "        \n",
    "        for container in response.xpath(\"//div[@class='txn--display-flex-row txn--margin-top-16']\"):\n",
    "            \n",
    "                \n",
    "            link = container.xpath(\".//div//@href\").get()\n",
    "            date= container.xpath(\".//div/text()\").getall()\n",
    "            article = container.xpath(\".//div/a/text()\").get()  \n",
    "            yield{\"Date\":date,\n",
    "                  \"link\" :link,\n",
    "                  \"Article\":article}\n",
    "        \n",
    "              "
   ]
  },
  {
   "cell_type": "code",
   "execution_count": 8,
   "id": "1fb1fa57",
   "metadata": {},
   "outputs": [
    {
     "name": "stderr",
     "output_type": "stream",
     "text": [
      "2024-02-20 18:11:54 [scrapy.utils.log] INFO: Scrapy 2.8.0 started (bot: scrapybot)\n",
      "2024-02-20 18:11:54 [scrapy.utils.log] INFO: Versions: lxml 4.9.2.0, libxml2 2.10.3, cssselect 1.1.0, parsel 1.6.0, w3lib 1.21.0, Twisted 22.10.0, Python 3.9.16 (main, Mar  8 2023, 10:39:24) [MSC v.1916 64 bit (AMD64)], pyOpenSSL 23.0.0 (OpenSSL 1.1.1u  30 May 2023), cryptography 39.0.1, Platform Windows-10-10.0.19045-SP0\n",
      "2024-02-20 18:11:54 [scrapy.crawler] INFO: Overridden settings:\n",
      "{}\n",
      "2024-02-20 18:11:54 [py.warnings] WARNING: C:\\Users\\NITIN\\anaconda3.1\\lib\\site-packages\\scrapy\\utils\\request.py:232: ScrapyDeprecationWarning: '2.6' is a deprecated value for the 'REQUEST_FINGERPRINTER_IMPLEMENTATION' setting.\n",
      "\n",
      "It is also the default value. In other words, it is normal to get this warning if you have not defined a value for the 'REQUEST_FINGERPRINTER_IMPLEMENTATION' setting. This is so for backward compatibility reasons, but it will change in a future version of Scrapy.\n",
      "\n",
      "See the documentation of the 'REQUEST_FINGERPRINTER_IMPLEMENTATION' setting for information on how to handle this deprecation.\n",
      "  return cls(crawler)\n",
      "\n",
      "2024-02-20 18:11:55 [scrapy.utils.log] DEBUG: Using reactor: twisted.internet.selectreactor.SelectReactor\n",
      "2024-02-20 18:11:55 [scrapy.extensions.telnet] INFO: Telnet Password: 908f64906a4a1e30\n",
      "2024-02-20 18:11:55 [scrapy.middleware] INFO: Enabled extensions:\n",
      "['scrapy.extensions.corestats.CoreStats',\n",
      " 'scrapy.extensions.telnet.TelnetConsole',\n",
      " 'scrapy.extensions.feedexport.FeedExporter',\n",
      " 'scrapy.extensions.logstats.LogStats']\n",
      "2024-02-20 18:11:56 [scrapy.middleware] INFO: Enabled downloader middlewares:\n",
      "['scrapy.downloadermiddlewares.httpauth.HttpAuthMiddleware',\n",
      " 'scrapy.downloadermiddlewares.downloadtimeout.DownloadTimeoutMiddleware',\n",
      " 'scrapy.downloadermiddlewares.defaultheaders.DefaultHeadersMiddleware',\n",
      " 'scrapy.downloadermiddlewares.useragent.UserAgentMiddleware',\n",
      " 'scrapy.downloadermiddlewares.retry.RetryMiddleware',\n",
      " 'scrapy.downloadermiddlewares.redirect.MetaRefreshMiddleware',\n",
      " 'scrapy.downloadermiddlewares.httpcompression.HttpCompressionMiddleware',\n",
      " 'scrapy.downloadermiddlewares.redirect.RedirectMiddleware',\n",
      " 'scrapy.downloadermiddlewares.cookies.CookiesMiddleware',\n",
      " 'scrapy.downloadermiddlewares.httpproxy.HttpProxyMiddleware',\n",
      " 'scrapy.downloadermiddlewares.stats.DownloaderStats']\n",
      "2024-02-20 18:11:56 [scrapy.middleware] INFO: Enabled spider middlewares:\n",
      "['scrapy.spidermiddlewares.httperror.HttpErrorMiddleware',\n",
      " 'scrapy.spidermiddlewares.offsite.OffsiteMiddleware',\n",
      " 'scrapy.spidermiddlewares.referer.RefererMiddleware',\n",
      " 'scrapy.spidermiddlewares.urllength.UrlLengthMiddleware',\n",
      " 'scrapy.spidermiddlewares.depth.DepthMiddleware']\n",
      "2024-02-20 18:11:56 [scrapy.middleware] INFO: Enabled item pipelines:\n",
      "[]\n",
      "2024-02-20 18:11:56 [scrapy.core.engine] INFO: Spider opened\n",
      "2024-02-20 18:11:56 [scrapy.extensions.logstats] INFO: Crawled 0 pages (at 0 pages/min), scraped 0 items (at 0 items/min)\n",
      "2024-02-20 18:11:56 [scrapy.extensions.telnet] INFO: Telnet console listening on 127.0.0.1:6023\n",
      "2024-02-20 18:11:58 [scrapy.core.engine] DEBUG: Crawled (200) <GET https://tracxn.com/d/companies/canoo/__HfVDFR8zT4sJ0XU0CVBHJ1P1CTyblbW8viNKwk579vE> (referer: None)\n",
      "2024-02-20 18:11:58 [scrapy.core.scraper] DEBUG: Scraped from <200 https://tracxn.com/d/companies/canoo/__HfVDFR8zT4sJ0XU0CVBHJ1P1CTyblbW8viNKwk579vE>\n",
      "{'Employee Count': '800 as on Dec 31, 2021 ', 'Annual Revenue': '$2.55M as on Dec 31, 2020', 'Company Profile': 'Developer of multiple categories of electric vehicles. The company design and develops multiple categories of electric vehicles like lifestyle vehicles, MPDVs, pickup trucks, cars, and more.', 'Key Investors': ['Yageo Corporation', ', ', 'Small Business Administration', 'AFV Partners'], 'Directors': ['Stefan Krause', '1', ' email', '1', ' phone number', 'Ulrich Kranz', '1', ' email', 'Karl-Thomas Neumann'], 'Competetors': ['competitors', 'Tesla', 'Lucid', 'Carvolution']}\n",
      "2024-02-20 18:11:58 [scrapy.core.scraper] DEBUG: Scraped from <200 https://tracxn.com/d/companies/canoo/__HfVDFR8zT4sJ0XU0CVBHJ1P1CTyblbW8viNKwk579vE>\n",
      "{'Date': ['•', 'Electric Cars Report', 'Feb 02, 2024', 'Canoo', ', '], 'link': 'https://electriccarsreport.com/2024/02/canoo-delivers-first-ldv-electric-vehicles-to-zeeba/', 'Article': 'Canoo delivers first LDV electric vehicles to Zeeba'}\n",
      "2024-02-20 18:11:58 [scrapy.core.scraper] DEBUG: Scraped from <200 https://tracxn.com/d/companies/canoo/__HfVDFR8zT4sJ0XU0CVBHJ1P1CTyblbW8viNKwk579vE>\n",
      "{'Date': ['•', 'Seeking Alpha', 'Jan 31, 2024', 'Canoo'], 'link': 'https://seekingalpha.com/news/4060503-canoo-successfully-expands-zeebas-fleet-with-electric-vehicles', 'Article': 'Canoo successfully expands Zeeba’s fleet with electric vehicles'}\n",
      "2024-02-20 18:11:58 [scrapy.core.scraper] DEBUG: Scraped from <200 https://tracxn.com/d/companies/canoo/__HfVDFR8zT4sJ0XU0CVBHJ1P1CTyblbW8viNKwk579vE>\n",
      "{'Date': ['•', 'ngtnews.com', 'Jan 24, 2024', 'Canoo', ', '], 'link': 'https://ngtnews.com/usps-will-purchase-six-canoo-electric-vehicles', 'Article': 'USPS Will Purchase Six Canoo Electric Vehicles'}\n",
      "2024-02-20 18:11:58 [scrapy.core.scraper] DEBUG: Scraped from <200 https://tracxn.com/d/companies/canoo/__HfVDFR8zT4sJ0XU0CVBHJ1P1CTyblbW8viNKwk579vE>\n",
      "{'Date': ['•', 'ktul.com', 'Jan 24, 2024', 'Canoo', ', '], 'link': 'https://ktul.com/amp/us-postal-service-teams-up-with-canoo-for-electrified-delivery-vehicles-electric-kevin-stitt-modernization-oklahoma-city', 'Article': 'U.S. Postal Service teams up with Canoo for electrified delivery vehicles'}\n",
      "2024-02-20 18:11:58 [scrapy.core.scraper] DEBUG: Scraped from <200 https://tracxn.com/d/companies/canoo/__HfVDFR8zT4sJ0XU0CVBHJ1P1CTyblbW8viNKwk579vE>\n",
      "{'Date': ['•', 'Electrek', 'Jan 20, 2024', 'Canoo'], 'link': 'https://electrek.co/2024/01/19/canoo-gets-real-as-deliveries-of-its-electric-commercial-van-begin/', 'Article': 'Canoo gets real as deliveries of its electric commercial van begin'}\n",
      "2024-02-20 18:11:58 [scrapy.core.scraper] DEBUG: Scraped from <200 https://tracxn.com/d/companies/canoo/__HfVDFR8zT4sJ0XU0CVBHJ1P1CTyblbW8viNKwk579vE>\n",
      "{'Date': ['•', 'Fleet News Daily', 'Jan 17, 2024', 'Canoo'], 'link': 'https://fleetnewsdaily.com/canoo-created-over-100-jobs-in-state-of-oklahoma-to-scale-electric-vehicle-manufacturing/', 'Article': 'Canoo Created Over 100 Jobs in State of Oklahoma to Scale Electric Vehicle Manufacturing'}\n",
      "2024-02-20 18:11:58 [scrapy.core.scraper] DEBUG: Scraped from <200 https://tracxn.com/d/companies/canoo/__HfVDFR8zT4sJ0XU0CVBHJ1P1CTyblbW8viNKwk579vE>\n",
      "{'Date': ['•', 'nwaonline.com', 'Jan 11, 2024', 'Canoo'], 'link': 'https://www.nwaonline.com/news/2024/jan/11/canoo-adds-100-new-hires-to-oklahoma-plants/', 'Article': 'Canoo adds 100 new hires to Oklahoma plants'}\n",
      "2024-02-20 18:11:58 [scrapy.core.scraper] DEBUG: Scraped from <200 https://tracxn.com/d/companies/canoo/__HfVDFR8zT4sJ0XU0CVBHJ1P1CTyblbW8viNKwk579vE>\n",
      "{'Date': ['•', 'GlobeNewswire', 'Jan 08, 2024', 'Canoo'], 'link': 'https://www.globenewswire.com/news-release/2024/01/08/2805265/0/en/Canoo-Acquires-Manufacturing-Assets-to-Increase-Vehicle-Assembly-Capacity.html', 'Article': 'Canoo Acquires Manufacturing Assets to Increase Vehicle Assembly Capacity'}\n",
      "2024-02-20 18:11:58 [scrapy.core.scraper] DEBUG: Scraped from <200 https://tracxn.com/d/companies/canoo/__HfVDFR8zT4sJ0XU0CVBHJ1P1CTyblbW8viNKwk579vE>\n",
      "{'Date': ['•', 'Work Truck Online', 'Nov 27, 2023', 'Canoo'], 'link': 'https://www.worktruckonline.com/10211040/canoo-deliveres-first-electric-lifestyle-delivery-vehicles', 'Article': 'Canoo Deliveres First Electric Lifestyle Delivery Vehicles'}\n",
      "2024-02-20 18:11:58 [scrapy.core.engine] INFO: Closing spider (finished)\n",
      "2024-02-20 18:11:58 [scrapy.extensions.feedexport] INFO: Stored csv feed (10 items) in: description.csv\n",
      "2024-02-20 18:11:58 [scrapy.extensions.feedexport] INFO: Stored csv feed (10 items) in: trends_canoo.csv\n",
      "2024-02-20 18:11:58 [scrapy.statscollectors] INFO: Dumping Scrapy stats:\n",
      "{'downloader/request_bytes': 283,\n",
      " 'downloader/request_count': 1,\n",
      " 'downloader/request_method_count/GET': 1,\n",
      " 'downloader/response_bytes': 50887,\n",
      " 'downloader/response_count': 1,\n",
      " 'downloader/response_status_count/200': 1,\n",
      " 'elapsed_time_seconds': 1.930124,\n",
      " 'feedexport/success_count/FileFeedStorage': 2,\n",
      " 'finish_reason': 'finished',\n",
      " 'finish_time': datetime.datetime(2024, 2, 20, 12, 41, 58, 542563),\n",
      " 'httpcompression/response_bytes': 220675,\n",
      " 'httpcompression/response_count': 1,\n",
      " 'item_scraped_count': 10,\n",
      " 'log_count/DEBUG': 12,\n",
      " 'log_count/INFO': 12,\n",
      " 'log_count/WARNING': 1,\n",
      " 'response_received_count': 1,\n",
      " 'scheduler/dequeued': 1,\n",
      " 'scheduler/dequeued/memory': 1,\n",
      " 'scheduler/enqueued': 1,\n",
      " 'scheduler/enqueued/memory': 1,\n",
      " 'start_time': datetime.datetime(2024, 2, 20, 12, 41, 56, 612439)}\n"
     ]
    },
    {
     "name": "stderr",
     "output_type": "stream",
     "text": [
      "2024-02-20 18:11:58 [scrapy.core.engine] INFO: Spider closed (finished)\n"
     ]
    }
   ],
   "source": [
    "#saving the crawled content to csv\n",
    "from scrapy.crawler import CrawlerProcess\n",
    "\n",
    "\n",
    "\n",
    "process = CrawlerProcess(settings={'FEEDS': {'description.csv': {'format': 'csv','fields':[\"Employee Count\",\"Annual Revenue\",\n",
    "                                                                 \"Company Profile\",\"Key Investors\",\"Directors\", \"Competetors\"]\n",
    "                                                                },\n",
    "                                            'trends_canoo.csv':{'format': 'csv','fields':[\"Date\",\"link\",\"Article\"]}}})\n",
    "\n",
    "process.crawl(MySpider)\n",
    "process.start()"
   ]
  },
  {
   "cell_type": "code",
   "execution_count": 9,
   "id": "a6711c30",
   "metadata": {},
   "outputs": [
    {
     "name": "stderr",
     "output_type": "stream",
     "text": [
      "2024-02-20 18:11:58 [py.warnings] WARNING: C:\\Users\\NITIN\\anaconda3.1\\lib\\site-packages\\numpy\\_distributor_init.py:30: UserWarning: loaded more than 1 DLL from .libs:\n",
      "C:\\Users\\NITIN\\anaconda3.1\\lib\\site-packages\\numpy\\.libs\\libopenblas.EL2C6PLE4ZYW3ECEVIV3OXXGRN2NRFM2.gfortran-win_amd64.dll\n",
      "C:\\Users\\NITIN\\anaconda3.1\\lib\\site-packages\\numpy\\.libs\\libopenblas64__v0.3.21-gcc_10_3_0.dll\n",
      "  warnings.warn(\"loaded more than 1 DLL from .libs:\"\n",
      "\n",
      "2024-02-20 18:11:59 [numexpr.utils] INFO: NumExpr defaulting to 4 threads.\n"
     ]
    }
   ],
   "source": [
    "import pandas as pd "
   ]
  },
  {
   "cell_type": "code",
   "execution_count": 10,
   "id": "3b3d7fdd",
   "metadata": {},
   "outputs": [
    {
     "data": {
      "text/html": [
       "<div>\n",
       "<style scoped>\n",
       "    .dataframe tbody tr th:only-of-type {\n",
       "        vertical-align: middle;\n",
       "    }\n",
       "\n",
       "    .dataframe tbody tr th {\n",
       "        vertical-align: top;\n",
       "    }\n",
       "\n",
       "    .dataframe thead th {\n",
       "        text-align: right;\n",
       "    }\n",
       "</style>\n",
       "<table border=\"1\" class=\"dataframe\">\n",
       "  <thead>\n",
       "    <tr style=\"text-align: right;\">\n",
       "      <th></th>\n",
       "      <th>Employee Count</th>\n",
       "      <th>Annual Revenue</th>\n",
       "      <th>Company Profile</th>\n",
       "      <th>Key Investors</th>\n",
       "      <th>Directors</th>\n",
       "      <th>Competetors</th>\n",
       "    </tr>\n",
       "  </thead>\n",
       "  <tbody>\n",
       "    <tr>\n",
       "      <th>0</th>\n",
       "      <td>800 as on Dec 31, 2021</td>\n",
       "      <td>$2.55M as on Dec 31, 2020</td>\n",
       "      <td>Developer of multiple categories of electric v...</td>\n",
       "      <td>Yageo Corporation,, ,Small Business Administra...</td>\n",
       "      <td>Stefan Krause,1, email,1, phone number,Ulrich ...</td>\n",
       "      <td>competitors,Tesla,Lucid,Carvolution</td>\n",
       "    </tr>\n",
       "    <tr>\n",
       "      <th>1</th>\n",
       "      <td>NaN</td>\n",
       "      <td>NaN</td>\n",
       "      <td>NaN</td>\n",
       "      <td>NaN</td>\n",
       "      <td>NaN</td>\n",
       "      <td>NaN</td>\n",
       "    </tr>\n",
       "    <tr>\n",
       "      <th>2</th>\n",
       "      <td>NaN</td>\n",
       "      <td>NaN</td>\n",
       "      <td>NaN</td>\n",
       "      <td>NaN</td>\n",
       "      <td>NaN</td>\n",
       "      <td>NaN</td>\n",
       "    </tr>\n",
       "    <tr>\n",
       "      <th>3</th>\n",
       "      <td>NaN</td>\n",
       "      <td>NaN</td>\n",
       "      <td>NaN</td>\n",
       "      <td>NaN</td>\n",
       "      <td>NaN</td>\n",
       "      <td>NaN</td>\n",
       "    </tr>\n",
       "    <tr>\n",
       "      <th>4</th>\n",
       "      <td>NaN</td>\n",
       "      <td>NaN</td>\n",
       "      <td>NaN</td>\n",
       "      <td>NaN</td>\n",
       "      <td>NaN</td>\n",
       "      <td>NaN</td>\n",
       "    </tr>\n",
       "    <tr>\n",
       "      <th>5</th>\n",
       "      <td>NaN</td>\n",
       "      <td>NaN</td>\n",
       "      <td>NaN</td>\n",
       "      <td>NaN</td>\n",
       "      <td>NaN</td>\n",
       "      <td>NaN</td>\n",
       "    </tr>\n",
       "    <tr>\n",
       "      <th>6</th>\n",
       "      <td>NaN</td>\n",
       "      <td>NaN</td>\n",
       "      <td>NaN</td>\n",
       "      <td>NaN</td>\n",
       "      <td>NaN</td>\n",
       "      <td>NaN</td>\n",
       "    </tr>\n",
       "    <tr>\n",
       "      <th>7</th>\n",
       "      <td>NaN</td>\n",
       "      <td>NaN</td>\n",
       "      <td>NaN</td>\n",
       "      <td>NaN</td>\n",
       "      <td>NaN</td>\n",
       "      <td>NaN</td>\n",
       "    </tr>\n",
       "    <tr>\n",
       "      <th>8</th>\n",
       "      <td>NaN</td>\n",
       "      <td>NaN</td>\n",
       "      <td>NaN</td>\n",
       "      <td>NaN</td>\n",
       "      <td>NaN</td>\n",
       "      <td>NaN</td>\n",
       "    </tr>\n",
       "    <tr>\n",
       "      <th>9</th>\n",
       "      <td>NaN</td>\n",
       "      <td>NaN</td>\n",
       "      <td>NaN</td>\n",
       "      <td>NaN</td>\n",
       "      <td>NaN</td>\n",
       "      <td>NaN</td>\n",
       "    </tr>\n",
       "  </tbody>\n",
       "</table>\n",
       "</div>"
      ],
      "text/plain": [
       "            Employee Count             Annual Revenue  \\\n",
       "0  800 as on Dec 31, 2021   $2.55M as on Dec 31, 2020   \n",
       "1                      NaN                        NaN   \n",
       "2                      NaN                        NaN   \n",
       "3                      NaN                        NaN   \n",
       "4                      NaN                        NaN   \n",
       "5                      NaN                        NaN   \n",
       "6                      NaN                        NaN   \n",
       "7                      NaN                        NaN   \n",
       "8                      NaN                        NaN   \n",
       "9                      NaN                        NaN   \n",
       "\n",
       "                                     Company Profile  \\\n",
       "0  Developer of multiple categories of electric v...   \n",
       "1                                                NaN   \n",
       "2                                                NaN   \n",
       "3                                                NaN   \n",
       "4                                                NaN   \n",
       "5                                                NaN   \n",
       "6                                                NaN   \n",
       "7                                                NaN   \n",
       "8                                                NaN   \n",
       "9                                                NaN   \n",
       "\n",
       "                                       Key Investors  \\\n",
       "0  Yageo Corporation,, ,Small Business Administra...   \n",
       "1                                                NaN   \n",
       "2                                                NaN   \n",
       "3                                                NaN   \n",
       "4                                                NaN   \n",
       "5                                                NaN   \n",
       "6                                                NaN   \n",
       "7                                                NaN   \n",
       "8                                                NaN   \n",
       "9                                                NaN   \n",
       "\n",
       "                                           Directors  \\\n",
       "0  Stefan Krause,1, email,1, phone number,Ulrich ...   \n",
       "1                                                NaN   \n",
       "2                                                NaN   \n",
       "3                                                NaN   \n",
       "4                                                NaN   \n",
       "5                                                NaN   \n",
       "6                                                NaN   \n",
       "7                                                NaN   \n",
       "8                                                NaN   \n",
       "9                                                NaN   \n",
       "\n",
       "                           Competetors  \n",
       "0  competitors,Tesla,Lucid,Carvolution  \n",
       "1                                  NaN  \n",
       "2                                  NaN  \n",
       "3                                  NaN  \n",
       "4                                  NaN  \n",
       "5                                  NaN  \n",
       "6                                  NaN  \n",
       "7                                  NaN  \n",
       "8                                  NaN  \n",
       "9                                  NaN  "
      ]
     },
     "execution_count": 10,
     "metadata": {},
     "output_type": "execute_result"
    }
   ],
   "source": [
    "#uploading the data to pandas dataframe\n",
    "df1=pd.read_csv(\"description.csv\")\n",
    "df1"
   ]
  },
  {
   "cell_type": "code",
   "execution_count": 11,
   "id": "5d52452b",
   "metadata": {},
   "outputs": [
    {
     "data": {
      "text/plain": [
       "Employee Count                               800 as on Dec 31, 2021 \n",
       "Annual Revenue                             $2.55M as on Dec 31, 2020\n",
       "Company Profile    Developer of multiple categories of electric v...\n",
       "Key Investors      Yageo Corporation,, ,Small Business Administra...\n",
       "Directors          Stefan Krause,1, email,1, phone number,Ulrich ...\n",
       "Competetors                      competitors,Tesla,Lucid,Carvolution\n",
       "Name: 0, dtype: object"
      ]
     },
     "execution_count": 11,
     "metadata": {},
     "output_type": "execute_result"
    }
   ],
   "source": [
    "#retaining necesary data\n",
    "df1=df1.iloc[0,:]\n",
    "df1"
   ]
  },
  {
   "cell_type": "code",
   "execution_count": 12,
   "id": "40fd88a3",
   "metadata": {},
   "outputs": [
    {
     "data": {
      "text/plain": [
       "['Yageo Corporation', '', ' ', 'Small Business Administration', 'AFV Partners']"
      ]
     },
     "execution_count": 12,
     "metadata": {},
     "output_type": "execute_result"
    }
   ],
   "source": [
    "#splitting the string\n",
    "investors=df1[\"Key Investors\"].split(\",\")\n",
    "investors"
   ]
  },
  {
   "cell_type": "code",
   "execution_count": 13,
   "id": "58649922",
   "metadata": {},
   "outputs": [
    {
     "data": {
      "text/plain": [
       "['Yageo Corporation', 'Small Business Administration', 'AFV Partners']"
      ]
     },
     "execution_count": 13,
     "metadata": {},
     "output_type": "execute_result"
    }
   ],
   "source": [
    "# remove unwanted elements\n",
    "investors.pop(1),\n",
    "investors.pop(1)\n",
    "investors"
   ]
  },
  {
   "cell_type": "code",
   "execution_count": 14,
   "id": "0a6c31f5",
   "metadata": {},
   "outputs": [
    {
     "data": {
      "text/plain": [
       "['Stefan Krause',\n",
       " '1',\n",
       " ' email',\n",
       " '1',\n",
       " ' phone number',\n",
       " 'Ulrich Kranz',\n",
       " '1',\n",
       " ' email',\n",
       " 'Karl-Thomas Neumann']"
      ]
     },
     "execution_count": 14,
     "metadata": {},
     "output_type": "execute_result"
    }
   ],
   "source": [
    "Directors=df1[\"Directors\"].split(\",\")\n",
    "Directors"
   ]
  },
  {
   "cell_type": "code",
   "execution_count": 15,
   "id": "54482b86",
   "metadata": {},
   "outputs": [
    {
     "data": {
      "text/plain": [
       "['Stefan Krause', 'Ulrich Kranz', 'Karl-Thomas Neumann']"
      ]
     },
     "execution_count": 15,
     "metadata": {},
     "output_type": "execute_result"
    }
   ],
   "source": [
    "# filtering names using regular expression\n",
    "Directors_List= []\n",
    "\n",
    "for name in Directors:\n",
    "    match = re.search(r'^[A-Z]', name)\n",
    "    if match:\n",
    "        Directors_List.append(name)\n",
    "Directors_List"
   ]
  },
  {
   "cell_type": "code",
   "execution_count": 16,
   "id": "95292958",
   "metadata": {},
   "outputs": [
    {
     "data": {
      "text/plain": [
       "'$2.55M as on Dec 31, 2020'"
      ]
     },
     "execution_count": 16,
     "metadata": {},
     "output_type": "execute_result"
    }
   ],
   "source": [
    "revenue=df1[\"Annual Revenue\"]\n",
    "revenue"
   ]
  },
  {
   "cell_type": "code",
   "execution_count": 17,
   "id": "7b85445d",
   "metadata": {},
   "outputs": [
    {
     "data": {
      "text/plain": [
       "'800 as on Dec 31, 2021 '"
      ]
     },
     "execution_count": 17,
     "metadata": {},
     "output_type": "execute_result"
    }
   ],
   "source": [
    "employees=df1[\"Employee Count\"]\n",
    "employees"
   ]
  },
  {
   "cell_type": "code",
   "execution_count": 18,
   "id": "78416492",
   "metadata": {},
   "outputs": [
    {
     "data": {
      "text/plain": [
       "'Developer of multiple categories of electric vehicles. The company design and develops multiple categories of electric vehicles like lifestyle vehicles, MPDVs, pickup trucks, cars, and more.'"
      ]
     },
     "execution_count": 18,
     "metadata": {},
     "output_type": "execute_result"
    }
   ],
   "source": [
    "profile=df1[\"Company Profile\"]\n",
    "profile"
   ]
  },
  {
   "cell_type": "markdown",
   "id": "ab0f1420",
   "metadata": {},
   "source": [
    "## Competetors"
   ]
  },
  {
   "cell_type": "code",
   "execution_count": 19,
   "id": "75009dfc",
   "metadata": {},
   "outputs": [
    {
     "data": {
      "text/plain": [
       "['competitors', 'Tesla', 'Lucid', 'Carvolution']"
      ]
     },
     "execution_count": 19,
     "metadata": {},
     "output_type": "execute_result"
    }
   ],
   "source": [
    "Competetors=df1[\"Competetors\"].split(\",\")\n",
    "Competetors"
   ]
  },
  {
   "cell_type": "code",
   "execution_count": 20,
   "id": "90ddeba7",
   "metadata": {},
   "outputs": [
    {
     "data": {
      "text/plain": [
       "'competitors'"
      ]
     },
     "execution_count": 20,
     "metadata": {},
     "output_type": "execute_result"
    }
   ],
   "source": [
    "Competetors.pop(0)"
   ]
  },
  {
   "cell_type": "code",
   "execution_count": 21,
   "id": "fe37887d",
   "metadata": {},
   "outputs": [
    {
     "name": "stderr",
     "output_type": "stream",
     "text": [
      "2024-02-20 18:12:01 [urllib3.connectionpool] DEBUG: Starting new HTTPS connection (1): www.eletimes.com:443\n",
      "2024-02-20 18:12:04 [urllib3.connectionpool] DEBUG: https://www.eletimes.com:443 \"GET /top-10-electric-vehicle-manufacturers-in-usa HTTP/1.1\" 200 None\n"
     ]
    }
   ],
   "source": [
    "#searching for competetors \n",
    "url = 'https://www.eletimes.com/top-10-electric-vehicle-manufacturers-in-usa'\n",
    "response = requests.get(url)\n",
    "html_content = response.content\n",
    "\n",
    "# Create a BeautifulSoup object\n",
    "soup = BeautifulSoup(html_content, 'html.parser')\n",
    "\n",
    "# Find the paragraph by its tag\n",
    "paragraph = soup.find_all('p')\n",
    "\n",
    "# Get the text of the paragraph\n"
   ]
  },
  {
   "cell_type": "code",
   "execution_count": 22,
   "id": "8c2ff06a",
   "metadata": {},
   "outputs": [
    {
     "data": {
      "text/plain": [
       "['In the United States, there is a diverse array of electric vehicle (EV) companies, ranging from emerging startups to long-established automakers. These American EV companies lead the way in innovation and technological advancements, focusing their efforts on improving batteries, motors, and charging infrastructure. With the growing interest in EVs among the American population, these companies are strategically positioned to seize the opportunities presented by the expanding market. The EV industry in the USA is thriving, witnessing the rise of new EV companies and electric car manufacturers. Noteworthy contenders such as Tesla, Rivian, and Lucid Motors have firmly established their presence in the American EV industry. Provided below is a compilation of the top 10 Electric Vehicle companies in the USA:',\n",
       " '',\n",
       " '1. General Motors',\n",
       " 'General Motors (GM) is a prominent automotive manufacturer known for its production of a diverse range of vehicles, including cars, trucks, SUVs, and crossovers, marketed under renowned brands like Chevrolet, Buick, GMC, and Cadillac. The company has set its sights on the mass production of fully electric and plug-in hybrid EVs that deliver enhanced mileage on a single charge. To achieve this goal, GM is making substantial investments in cutting-edge battery technology, including the exploration of hydrogen fuel cells',\n",
       " '2. Ford',\n",
       " 'Ford Motor Company, a multinational automotive corporation headquartered in the United States (US), engages in the design, production, and maintenance of various vehicles, encompassing cars, sport utility vehicles (SUVs), and commercial vehicles. Additionally, the company actively manufactures electric vehicles (EVs), such as the Mustang Mach-E, F-150 Lightning, Focus Electric, and E-Transit. Furthermore, Ford is committed to investing in the advancement of connected car technology, facilitating seamless communication between vehicles and the surrounding infrastructure.',\n",
       " '3. Tesla',\n",
       " 'Tesla, an American electric vehicle (EV) company, holds a prominent position as the frontrunner in the EV industry. Established in 2003 by technology magnate Elon Musk, the company has gained recognition for its cutting-edge and top-notch EVs. With a staggering 179,050 units sold in the first half of 2020, Tesla claims a dominant market share of 28% globally. Consumers eagerly seek out Tesla’s automobiles due to their groundbreaking technology, contemporary aesthetics, and impressive performance.\\xa0',\n",
       " '4. BMW',\n",
       " 'Established in 2011, BMWi is a subsidiary brand of BMW dedicated to the production and advancement of plug-in electric vehicles. The brand made its debut with two notable models: the i3, an all-electric car, and the i8, a plug-in hybrid. By December 2019, the BMW Group had achieved a significant milestone, selling a cumulative total of 500,000 electric vehicles, including models from BMWi, iPerformance, xDrive, and MINI.',\n",
       " '5. Polestar',\n",
       " 'As a frontrunner in the heavy-duty semi-truck manufacturing sector, this company not only excels in producing top-notch trucks but also ventures into energy solutions as part of its broader objective to revolutionize the industry. With a commitment to achieving net-zero emissions worldwide, the company introduces the Tre BEV, a cutting-edge electric vehicle designed for short-haul journeys, boasting an impressive range of up to 350 miles per charge. Powered by a potent motor and a substantial 753kWh battery, this truck delivers a remarkable 645 horsepower. Moreover, it offers the advantage of swift charging, allowing it to replenish its battery in just two hours.',\n",
       " '6. Rivian\\xa0',\n",
       " 'Rivian Automotive emerged as a prominent player in the EV industry between 2021 and 2022, despite initial challenges. Their R1T and R1S models cater to adventure enthusiasts, enabling them to explore previously inaccessible areas with electric power. Overcoming production delays, Rivian now delivers vehicles consistently to customers across the US. CEO RJ Scaringe, with a passion for traditional engines, recognized the untapped market of adventurous pickup and SUV drivers in the EV space. Rivian also partnered with Amazon to supply 100,000 electric vans by 2030, solidifying its position in the industry.',\n",
       " '7. Proterra\\xa0',\n",
       " 'Proterra, an American electric vehicle manufacturer founded in 2004 by Dale Hill, began its journey by designing electric golf carts. Since then, the company has made impressive strides, attracting significant investments totalling over $600 million from renowned entities like General Motors and Volvo. Proterra’s revenue for 2020 reached a notable $118.3 million, and as of December 2021, the company employed around 816 individuals. As of June 2023, Proterra’s market capitalization stands at $257.05 million, demonstrating consistent advancement towards its goals.',\n",
       " '8. Lucid Motors',\n",
       " 'Lucid Motors, a pure-play manufacturer, has garnered widespread attention and recognition with its Lucid Air, which earned the prestigious title of Motor Trend Car of the Year 2022. The vehicle has also been honoured with several other accolades, such as being named the longest-range car, the fastest-charging car, and the most advanced electric car of the year. Lucid Motors has left an indelible mark in the industry, captivating audiences with its exceptional electric vehicle offering.',\n",
       " '9. Lordstown Motors\\xa0',\n",
       " 'Founded in 2019 by former General Motors executive Steve Burns, Lordstown Motors Corporation is an electric vehicle company that has made significant strides. With substantial investments totalling over $675 million from renowned investors like General Motors and Workhorse Group, Lordstown has achieved a commendable revenue of $383.00 K as of March 2023. As of December 2022, the company employs approximately 296 individuals, further demonstrating its growth and commitment to the industry.',\n",
       " '10. Canoo',\n",
       " 'Canoo provides a diverse range of electric vehicles, catering to both personal and corporate transportation needs, including cargo delivery trucks. Its sustainable offerings serve individual and corporate clients alike. In a significant move, Walmart has entered into an agreement to procure 4,500 EVs from Canoo for deliveries starting in 2023. With a current revenue of $510.55 million, Canoo aims to deliver a distinctive ownership experience and redefine people’s perception of transportation. As of June 2023, the company has made substantial strides toward its objectives, reflected in its market capitalization of $213.80 million.',\n",
       " 'In conclusion, the electric vehicle market in the USA is undergoing a rapid and dynamic expansion, propelled by a multitude of companies producing exceptional and innovative EVs. The industry’s growth is primarily motivated by an increased focus on sustainability and the reduction of carbon emissions. As competition among these companies intensifies, it spurs greater levels of innovation and technological advancements, contributing to further advancements in the electric vehicle sector.',\n",
       " 'ELE Times provides a comprehensive global coverage of Electronics, Technology and the Market.',\n",
       " 'Email Us On: live@newdelhimedia.co.in',\n",
       " '© New Delhi Print Media Pvt. Ltd.']"
      ]
     },
     "execution_count": 22,
     "metadata": {},
     "output_type": "execute_result"
    }
   ],
   "source": [
    "txt=[]\n",
    "cnt=0\n",
    "for para in paragraph:\n",
    "    txt.append(para.get_text())\n",
    "    \n",
    "txt\n",
    "    \n"
   ]
  },
  {
   "cell_type": "code",
   "execution_count": 23,
   "id": "81c82cbf",
   "metadata": {},
   "outputs": [
    {
     "data": {
      "text/plain": [
       "['In the United States, there is a diverse array of electric vehicle (EV) companies, ranging from emerging startups to long-established automakers. These American EV companies lead the way in innovation and technological advancements, focusing their efforts on improving batteries, motors, and charging infrastructure. With the growing interest in EVs among the American population, these companies are strategically positioned to seize the opportunities presented by the expanding market. The EV industry in the USA is thriving, witnessing the rise of new EV companies and electric car manufacturers. Noteworthy contenders such as Tesla, Rivian, and Lucid Motors have firmly established their presence in the American EV industry. Provided below is a compilation of the top 10 Electric Vehicle companies in the USA:']"
      ]
     },
     "execution_count": 23,
     "metadata": {},
     "output_type": "execute_result"
    }
   ],
   "source": [
    "#manuplating text\n",
    "Competetors_info=[]\n",
    "Competetors_info.append(txt[0])\n",
    "txt.pop(0)\n",
    "Competetors_info"
   ]
  },
  {
   "cell_type": "code",
   "execution_count": 24,
   "id": "e30ed670",
   "metadata": {},
   "outputs": [
    {
     "data": {
      "text/plain": [
       "['In the United States, there is a diverse array of electric vehicle (EV) companies, ranging from emerging startups to long-established automakers. These American EV companies lead the way in innovation and technological advancements, focusing their efforts on improving batteries, motors, and charging infrastructure. With the growing interest in EVs among the American population, these companies are strategically positioned to seize the opportunities presented by the expanding market. The EV industry in the USA is thriving, witnessing the rise of new EV companies and electric car manufacturers. Noteworthy contenders such as Tesla, Rivian, and Lucid Motors have firmly established their presence in the American EV industry. Provided below is a compilation of the top 10 Electric Vehicle companies in the USA:',\n",
       " '3. Tesla',\n",
       " 'Tesla, an American electric vehicle (EV) company, holds a prominent position as the frontrunner in the EV industry. Established in 2003 by technology magnate Elon Musk, the company has gained recognition for its cutting-edge and top-notch EVs. With a staggering 179,050 units sold in the first half of 2020, Tesla claims a dominant market share of 28% globally. Consumers eagerly seek out Tesla’s automobiles due to their groundbreaking technology, contemporary aesthetics, and impressive performance.\\xa0',\n",
       " '8. Lucid Motors',\n",
       " 'Lucid Motors, a pure-play manufacturer, has garnered widespread attention and recognition with its Lucid Air, which earned the prestigious title of Motor Trend Car of the Year 2022. The vehicle has also been honoured with several other accolades, such as being named the longest-range car, the fastest-charging car, and the most advanced electric car of the year. Lucid Motors has left an indelible mark in the industry, captivating audiences with its exceptional electric vehicle offering.']"
      ]
     },
     "execution_count": 24,
     "metadata": {},
     "output_type": "execute_result"
    }
   ],
   "source": [
    "# retaining only paragraph corresponding to the competetors of canoo as present in the Competetors list from the tex list\n",
    "\n",
    "for para in txt:\n",
    "    for name in Competetors:\n",
    "        if re.search(name,para):\n",
    "            Competetors_info.append(para)\n",
    "Competetors_info        "
   ]
  },
  {
   "cell_type": "code",
   "execution_count": 25,
   "id": "0316f31e",
   "metadata": {},
   "outputs": [
    {
     "name": "stdout",
     "output_type": "stream",
     "text": [
      "3. Tesla\n",
      "8. Lucid Motors\n"
     ]
    },
    {
     "data": {
      "text/plain": [
       "['In the United States, there is a diverse array of electric vehicle (EV) companies, ranging from emerging startups to long-established automakers. These American EV companies lead the way in innovation and technological advancements, focusing their efforts on improving batteries, motors, and charging infrastructure. With the growing interest in EVs among the American population, these companies are strategically positioned to seize the opportunities presented by the expanding market. The EV industry in the USA is thriving, witnessing the rise of new EV companies and electric car manufacturers. Noteworthy contenders such as Tesla, Rivian, and Lucid Motors have firmly established their presence in the American EV industry. Provided below is a compilation of the top 10 Electric Vehicle companies in the USA:',\n",
       " ' Tesla',\n",
       " 'Tesla, an American electric vehicle (EV) company, holds a prominent position as the frontrunner in the EV industry. Established in 2003 by technology magnate Elon Musk, the company has gained recognition for its cutting-edge and top-notch EVs. With a staggering 179,050 units sold in the first half of 2020, Tesla claims a dominant market share of 28% globally. Consumers eagerly seek out Tesla’s automobiles due to their groundbreaking technology, contemporary aesthetics, and impressive performance.\\xa0',\n",
       " ' Lucid Motors',\n",
       " 'Lucid Motors, a pure-play manufacturer, has garnered widespread attention and recognition with its Lucid Air, which earned the prestigious title of Motor Trend Car of the Year 2022. The vehicle has also been honoured with several other accolades, such as being named the longest-range car, the fastest-charging car, and the most advanced electric car of the year. Lucid Motors has left an indelible mark in the industry, captivating audiences with its exceptional electric vehicle offering.']"
      ]
     },
     "execution_count": 25,
     "metadata": {},
     "output_type": "execute_result"
    }
   ],
   "source": [
    "# using re for removing unwanted text\n",
    "for para in Competetors_info:\n",
    "      if re.search(\"^[0-9]\",para):\n",
    "            print(para)\n",
    "            new=re.sub(\"^[0-9]{1}\\.{1}\",\"\", para)\n",
    "            ind=Competetors_info.index(para)\n",
    "            Competetors_info[ind]=new\n",
    "Competetors_info"
   ]
  },
  {
   "cell_type": "code",
   "execution_count": 26,
   "id": "2dc055dd",
   "metadata": {},
   "outputs": [
    {
     "data": {
      "text/html": [
       "<div>\n",
       "<style scoped>\n",
       "    .dataframe tbody tr th:only-of-type {\n",
       "        vertical-align: middle;\n",
       "    }\n",
       "\n",
       "    .dataframe tbody tr th {\n",
       "        vertical-align: top;\n",
       "    }\n",
       "\n",
       "    .dataframe thead th {\n",
       "        text-align: right;\n",
       "    }\n",
       "</style>\n",
       "<table border=\"1\" class=\"dataframe\">\n",
       "  <thead>\n",
       "    <tr style=\"text-align: right;\">\n",
       "      <th></th>\n",
       "      <th>Date</th>\n",
       "      <th>link</th>\n",
       "      <th>Article</th>\n",
       "    </tr>\n",
       "  </thead>\n",
       "  <tbody>\n",
       "    <tr>\n",
       "      <th>0</th>\n",
       "      <td>NaN</td>\n",
       "      <td>NaN</td>\n",
       "      <td>NaN</td>\n",
       "    </tr>\n",
       "    <tr>\n",
       "      <th>1</th>\n",
       "      <td>•,Electric Cars Report,Feb 02, 2024,Canoo,,</td>\n",
       "      <td>https://electriccarsreport.com/2024/02/canoo-d...</td>\n",
       "      <td>Canoo delivers first LDV electric vehicles to ...</td>\n",
       "    </tr>\n",
       "    <tr>\n",
       "      <th>2</th>\n",
       "      <td>•,Seeking Alpha,Jan 31, 2024,Canoo</td>\n",
       "      <td>https://seekingalpha.com/news/4060503-canoo-su...</td>\n",
       "      <td>Canoo successfully expands Zeeba’s fleet with ...</td>\n",
       "    </tr>\n",
       "    <tr>\n",
       "      <th>3</th>\n",
       "      <td>•,ngtnews.com,Jan 24, 2024,Canoo,,</td>\n",
       "      <td>https://ngtnews.com/usps-will-purchase-six-can...</td>\n",
       "      <td>USPS Will Purchase Six Canoo Electric Vehicles</td>\n",
       "    </tr>\n",
       "    <tr>\n",
       "      <th>4</th>\n",
       "      <td>•,ktul.com,Jan 24, 2024,Canoo,,</td>\n",
       "      <td>https://ktul.com/amp/us-postal-service-teams-u...</td>\n",
       "      <td>U.S. Postal Service teams up with Canoo for el...</td>\n",
       "    </tr>\n",
       "    <tr>\n",
       "      <th>5</th>\n",
       "      <td>•,Electrek,Jan 20, 2024,Canoo</td>\n",
       "      <td>https://electrek.co/2024/01/19/canoo-gets-real...</td>\n",
       "      <td>Canoo gets real as deliveries of its electric ...</td>\n",
       "    </tr>\n",
       "    <tr>\n",
       "      <th>6</th>\n",
       "      <td>•,Fleet News Daily,Jan 17, 2024,Canoo</td>\n",
       "      <td>https://fleetnewsdaily.com/canoo-created-over-...</td>\n",
       "      <td>Canoo Created Over 100 Jobs in State of Oklaho...</td>\n",
       "    </tr>\n",
       "    <tr>\n",
       "      <th>7</th>\n",
       "      <td>•,nwaonline.com,Jan 11, 2024,Canoo</td>\n",
       "      <td>https://www.nwaonline.com/news/2024/jan/11/can...</td>\n",
       "      <td>Canoo adds 100 new hires to Oklahoma plants</td>\n",
       "    </tr>\n",
       "    <tr>\n",
       "      <th>8</th>\n",
       "      <td>•,GlobeNewswire,Jan 08, 2024,Canoo</td>\n",
       "      <td>https://www.globenewswire.com/news-release/202...</td>\n",
       "      <td>Canoo Acquires Manufacturing Assets to Increas...</td>\n",
       "    </tr>\n",
       "    <tr>\n",
       "      <th>9</th>\n",
       "      <td>•,Work Truck Online,Nov 27, 2023,Canoo</td>\n",
       "      <td>https://www.worktruckonline.com/10211040/canoo...</td>\n",
       "      <td>Canoo Deliveres First Electric Lifestyle Deliv...</td>\n",
       "    </tr>\n",
       "  </tbody>\n",
       "</table>\n",
       "</div>"
      ],
      "text/plain": [
       "                                           Date  \\\n",
       "0                                           NaN   \n",
       "1  •,Electric Cars Report,Feb 02, 2024,Canoo,,    \n",
       "2            •,Seeking Alpha,Jan 31, 2024,Canoo   \n",
       "3           •,ngtnews.com,Jan 24, 2024,Canoo,,    \n",
       "4              •,ktul.com,Jan 24, 2024,Canoo,,    \n",
       "5                 •,Electrek,Jan 20, 2024,Canoo   \n",
       "6         •,Fleet News Daily,Jan 17, 2024,Canoo   \n",
       "7            •,nwaonline.com,Jan 11, 2024,Canoo   \n",
       "8            •,GlobeNewswire,Jan 08, 2024,Canoo   \n",
       "9        •,Work Truck Online,Nov 27, 2023,Canoo   \n",
       "\n",
       "                                                link  \\\n",
       "0                                                NaN   \n",
       "1  https://electriccarsreport.com/2024/02/canoo-d...   \n",
       "2  https://seekingalpha.com/news/4060503-canoo-su...   \n",
       "3  https://ngtnews.com/usps-will-purchase-six-can...   \n",
       "4  https://ktul.com/amp/us-postal-service-teams-u...   \n",
       "5  https://electrek.co/2024/01/19/canoo-gets-real...   \n",
       "6  https://fleetnewsdaily.com/canoo-created-over-...   \n",
       "7  https://www.nwaonline.com/news/2024/jan/11/can...   \n",
       "8  https://www.globenewswire.com/news-release/202...   \n",
       "9  https://www.worktruckonline.com/10211040/canoo...   \n",
       "\n",
       "                                             Article  \n",
       "0                                                NaN  \n",
       "1  Canoo delivers first LDV electric vehicles to ...  \n",
       "2  Canoo successfully expands Zeeba’s fleet with ...  \n",
       "3     USPS Will Purchase Six Canoo Electric Vehicles  \n",
       "4  U.S. Postal Service teams up with Canoo for el...  \n",
       "5  Canoo gets real as deliveries of its electric ...  \n",
       "6  Canoo Created Over 100 Jobs in State of Oklaho...  \n",
       "7        Canoo adds 100 new hires to Oklahoma plants  \n",
       "8  Canoo Acquires Manufacturing Assets to Increas...  \n",
       "9  Canoo Deliveres First Electric Lifestyle Deliv...  "
      ]
     },
     "execution_count": 26,
     "metadata": {},
     "output_type": "execute_result"
    }
   ],
   "source": [
    "#loading contents of trends_canoo contaning Links to recent news articles on cainoo to  pandas dataframe\n",
    "df2=pd.read_csv(\"trends_canoo.csv\")\n",
    "df2"
   ]
  },
  {
   "cell_type": "code",
   "execution_count": 27,
   "id": "9a93de93",
   "metadata": {},
   "outputs": [
    {
     "data": {
      "text/html": [
       "<div>\n",
       "<style scoped>\n",
       "    .dataframe tbody tr th:only-of-type {\n",
       "        vertical-align: middle;\n",
       "    }\n",
       "\n",
       "    .dataframe tbody tr th {\n",
       "        vertical-align: top;\n",
       "    }\n",
       "\n",
       "    .dataframe thead th {\n",
       "        text-align: right;\n",
       "    }\n",
       "</style>\n",
       "<table border=\"1\" class=\"dataframe\">\n",
       "  <thead>\n",
       "    <tr style=\"text-align: right;\">\n",
       "      <th></th>\n",
       "      <th>Date</th>\n",
       "      <th>link</th>\n",
       "      <th>Article</th>\n",
       "    </tr>\n",
       "  </thead>\n",
       "  <tbody>\n",
       "    <tr>\n",
       "      <th>1</th>\n",
       "      <td>•,Electric Cars Report,Feb 02, 2024,Canoo,,</td>\n",
       "      <td>https://electriccarsreport.com/2024/02/canoo-d...</td>\n",
       "      <td>Canoo delivers first LDV electric vehicles to ...</td>\n",
       "    </tr>\n",
       "    <tr>\n",
       "      <th>2</th>\n",
       "      <td>•,Seeking Alpha,Jan 31, 2024,Canoo</td>\n",
       "      <td>https://seekingalpha.com/news/4060503-canoo-su...</td>\n",
       "      <td>Canoo successfully expands Zeeba’s fleet with ...</td>\n",
       "    </tr>\n",
       "    <tr>\n",
       "      <th>3</th>\n",
       "      <td>•,ngtnews.com,Jan 24, 2024,Canoo,,</td>\n",
       "      <td>https://ngtnews.com/usps-will-purchase-six-can...</td>\n",
       "      <td>USPS Will Purchase Six Canoo Electric Vehicles</td>\n",
       "    </tr>\n",
       "    <tr>\n",
       "      <th>4</th>\n",
       "      <td>•,ktul.com,Jan 24, 2024,Canoo,,</td>\n",
       "      <td>https://ktul.com/amp/us-postal-service-teams-u...</td>\n",
       "      <td>U.S. Postal Service teams up with Canoo for el...</td>\n",
       "    </tr>\n",
       "    <tr>\n",
       "      <th>5</th>\n",
       "      <td>•,Electrek,Jan 20, 2024,Canoo</td>\n",
       "      <td>https://electrek.co/2024/01/19/canoo-gets-real...</td>\n",
       "      <td>Canoo gets real as deliveries of its electric ...</td>\n",
       "    </tr>\n",
       "  </tbody>\n",
       "</table>\n",
       "</div>"
      ],
      "text/plain": [
       "                                           Date  \\\n",
       "1  •,Electric Cars Report,Feb 02, 2024,Canoo,,    \n",
       "2            •,Seeking Alpha,Jan 31, 2024,Canoo   \n",
       "3           •,ngtnews.com,Jan 24, 2024,Canoo,,    \n",
       "4              •,ktul.com,Jan 24, 2024,Canoo,,    \n",
       "5                 •,Electrek,Jan 20, 2024,Canoo   \n",
       "\n",
       "                                                link  \\\n",
       "1  https://electriccarsreport.com/2024/02/canoo-d...   \n",
       "2  https://seekingalpha.com/news/4060503-canoo-su...   \n",
       "3  https://ngtnews.com/usps-will-purchase-six-can...   \n",
       "4  https://ktul.com/amp/us-postal-service-teams-u...   \n",
       "5  https://electrek.co/2024/01/19/canoo-gets-real...   \n",
       "\n",
       "                                             Article  \n",
       "1  Canoo delivers first LDV electric vehicles to ...  \n",
       "2  Canoo successfully expands Zeeba’s fleet with ...  \n",
       "3     USPS Will Purchase Six Canoo Electric Vehicles  \n",
       "4  U.S. Postal Service teams up with Canoo for el...  \n",
       "5  Canoo gets real as deliveries of its electric ...  "
      ]
     },
     "execution_count": 27,
     "metadata": {},
     "output_type": "execute_result"
    }
   ],
   "source": [
    "df2=df2.dropna()\n",
    "df2.head()"
   ]
  },
  {
   "cell_type": "code",
   "execution_count": 28,
   "id": "6e1bb55f",
   "metadata": {},
   "outputs": [
    {
     "name": "stderr",
     "output_type": "stream",
     "text": [
      "2024-02-20 18:12:06 [py.warnings] WARNING: C:\\Users\\NITIN\\AppData\\Local\\Temp\\ipykernel_10124\\1825240713.py:4: SettingWithCopyWarning: \n",
      "A value is trying to be set on a copy of a slice from a DataFrame.\n",
      "Try using .loc[row_indexer,col_indexer] = value instead\n",
      "\n",
      "See the caveats in the documentation: https://pandas.pydata.org/pandas-docs/stable/user_guide/indexing.html#returning-a-view-versus-a-copy\n",
      "  df2.Date= df2.Date.apply(lambda x: x.split(\",\")[2:4])\n",
      "\n"
     ]
    },
    {
     "data": {
      "text/html": [
       "<div>\n",
       "<style scoped>\n",
       "    .dataframe tbody tr th:only-of-type {\n",
       "        vertical-align: middle;\n",
       "    }\n",
       "\n",
       "    .dataframe tbody tr th {\n",
       "        vertical-align: top;\n",
       "    }\n",
       "\n",
       "    .dataframe thead th {\n",
       "        text-align: right;\n",
       "    }\n",
       "</style>\n",
       "<table border=\"1\" class=\"dataframe\">\n",
       "  <thead>\n",
       "    <tr style=\"text-align: right;\">\n",
       "      <th></th>\n",
       "      <th>Date</th>\n",
       "      <th>link</th>\n",
       "      <th>Article</th>\n",
       "    </tr>\n",
       "  </thead>\n",
       "  <tbody>\n",
       "    <tr>\n",
       "      <th>1</th>\n",
       "      <td>[Feb 02,  2024]</td>\n",
       "      <td>https://electriccarsreport.com/2024/02/canoo-d...</td>\n",
       "      <td>Canoo delivers first LDV electric vehicles to ...</td>\n",
       "    </tr>\n",
       "    <tr>\n",
       "      <th>2</th>\n",
       "      <td>[Jan 31,  2024]</td>\n",
       "      <td>https://seekingalpha.com/news/4060503-canoo-su...</td>\n",
       "      <td>Canoo successfully expands Zeeba’s fleet with ...</td>\n",
       "    </tr>\n",
       "    <tr>\n",
       "      <th>3</th>\n",
       "      <td>[Jan 24,  2024]</td>\n",
       "      <td>https://ngtnews.com/usps-will-purchase-six-can...</td>\n",
       "      <td>USPS Will Purchase Six Canoo Electric Vehicles</td>\n",
       "    </tr>\n",
       "    <tr>\n",
       "      <th>4</th>\n",
       "      <td>[Jan 24,  2024]</td>\n",
       "      <td>https://ktul.com/amp/us-postal-service-teams-u...</td>\n",
       "      <td>U.S. Postal Service teams up with Canoo for el...</td>\n",
       "    </tr>\n",
       "    <tr>\n",
       "      <th>5</th>\n",
       "      <td>[Jan 20,  2024]</td>\n",
       "      <td>https://electrek.co/2024/01/19/canoo-gets-real...</td>\n",
       "      <td>Canoo gets real as deliveries of its electric ...</td>\n",
       "    </tr>\n",
       "    <tr>\n",
       "      <th>6</th>\n",
       "      <td>[Jan 17,  2024]</td>\n",
       "      <td>https://fleetnewsdaily.com/canoo-created-over-...</td>\n",
       "      <td>Canoo Created Over 100 Jobs in State of Oklaho...</td>\n",
       "    </tr>\n",
       "    <tr>\n",
       "      <th>7</th>\n",
       "      <td>[Jan 11,  2024]</td>\n",
       "      <td>https://www.nwaonline.com/news/2024/jan/11/can...</td>\n",
       "      <td>Canoo adds 100 new hires to Oklahoma plants</td>\n",
       "    </tr>\n",
       "    <tr>\n",
       "      <th>8</th>\n",
       "      <td>[Jan 08,  2024]</td>\n",
       "      <td>https://www.globenewswire.com/news-release/202...</td>\n",
       "      <td>Canoo Acquires Manufacturing Assets to Increas...</td>\n",
       "    </tr>\n",
       "    <tr>\n",
       "      <th>9</th>\n",
       "      <td>[Nov 27,  2023]</td>\n",
       "      <td>https://www.worktruckonline.com/10211040/canoo...</td>\n",
       "      <td>Canoo Deliveres First Electric Lifestyle Deliv...</td>\n",
       "    </tr>\n",
       "  </tbody>\n",
       "</table>\n",
       "</div>"
      ],
      "text/plain": [
       "              Date                                               link  \\\n",
       "1  [Feb 02,  2024]  https://electriccarsreport.com/2024/02/canoo-d...   \n",
       "2  [Jan 31,  2024]  https://seekingalpha.com/news/4060503-canoo-su...   \n",
       "3  [Jan 24,  2024]  https://ngtnews.com/usps-will-purchase-six-can...   \n",
       "4  [Jan 24,  2024]  https://ktul.com/amp/us-postal-service-teams-u...   \n",
       "5  [Jan 20,  2024]  https://electrek.co/2024/01/19/canoo-gets-real...   \n",
       "6  [Jan 17,  2024]  https://fleetnewsdaily.com/canoo-created-over-...   \n",
       "7  [Jan 11,  2024]  https://www.nwaonline.com/news/2024/jan/11/can...   \n",
       "8  [Jan 08,  2024]  https://www.globenewswire.com/news-release/202...   \n",
       "9  [Nov 27,  2023]  https://www.worktruckonline.com/10211040/canoo...   \n",
       "\n",
       "                                             Article  \n",
       "1  Canoo delivers first LDV electric vehicles to ...  \n",
       "2  Canoo successfully expands Zeeba’s fleet with ...  \n",
       "3     USPS Will Purchase Six Canoo Electric Vehicles  \n",
       "4  U.S. Postal Service teams up with Canoo for el...  \n",
       "5  Canoo gets real as deliveries of its electric ...  \n",
       "6  Canoo Created Over 100 Jobs in State of Oklaho...  \n",
       "7        Canoo adds 100 new hires to Oklahoma plants  \n",
       "8  Canoo Acquires Manufacturing Assets to Increas...  \n",
       "9  Canoo Deliveres First Electric Lifestyle Deliv...  "
      ]
     },
     "execution_count": 28,
     "metadata": {},
     "output_type": "execute_result"
    }
   ],
   "source": [
    "# Extracting Date as list \n",
    "import numpy as np\n",
    "\n",
    "df2.Date= df2.Date.apply(lambda x: x.split(\",\")[2:4])\n",
    "\n",
    "df2"
   ]
  },
  {
   "cell_type": "code",
   "execution_count": 29,
   "id": "dbd69033",
   "metadata": {},
   "outputs": [
    {
     "name": "stderr",
     "output_type": "stream",
     "text": [
      "2024-02-20 18:12:06 [py.warnings] WARNING: C:\\Users\\NITIN\\AppData\\Local\\Temp\\ipykernel_10124\\1283566409.py:1: SettingWithCopyWarning: \n",
      "A value is trying to be set on a copy of a slice from a DataFrame.\n",
      "Try using .loc[row_indexer,col_indexer] = value instead\n",
      "\n",
      "See the caveats in the documentation: https://pandas.pydata.org/pandas-docs/stable/user_guide/indexing.html#returning-a-view-versus-a-copy\n",
      "  df2.Date= df2.Date.apply(lambda x: x[0]+x[1])\n",
      "\n"
     ]
    },
    {
     "data": {
      "text/html": [
       "<div>\n",
       "<style scoped>\n",
       "    .dataframe tbody tr th:only-of-type {\n",
       "        vertical-align: middle;\n",
       "    }\n",
       "\n",
       "    .dataframe tbody tr th {\n",
       "        vertical-align: top;\n",
       "    }\n",
       "\n",
       "    .dataframe thead th {\n",
       "        text-align: right;\n",
       "    }\n",
       "</style>\n",
       "<table border=\"1\" class=\"dataframe\">\n",
       "  <thead>\n",
       "    <tr style=\"text-align: right;\">\n",
       "      <th></th>\n",
       "      <th>Date</th>\n",
       "      <th>link</th>\n",
       "      <th>Article</th>\n",
       "    </tr>\n",
       "  </thead>\n",
       "  <tbody>\n",
       "    <tr>\n",
       "      <th>1</th>\n",
       "      <td>Feb 02 2024</td>\n",
       "      <td>https://electriccarsreport.com/2024/02/canoo-d...</td>\n",
       "      <td>Canoo delivers first LDV electric vehicles to ...</td>\n",
       "    </tr>\n",
       "    <tr>\n",
       "      <th>2</th>\n",
       "      <td>Jan 31 2024</td>\n",
       "      <td>https://seekingalpha.com/news/4060503-canoo-su...</td>\n",
       "      <td>Canoo successfully expands Zeeba’s fleet with ...</td>\n",
       "    </tr>\n",
       "    <tr>\n",
       "      <th>3</th>\n",
       "      <td>Jan 24 2024</td>\n",
       "      <td>https://ngtnews.com/usps-will-purchase-six-can...</td>\n",
       "      <td>USPS Will Purchase Six Canoo Electric Vehicles</td>\n",
       "    </tr>\n",
       "    <tr>\n",
       "      <th>4</th>\n",
       "      <td>Jan 24 2024</td>\n",
       "      <td>https://ktul.com/amp/us-postal-service-teams-u...</td>\n",
       "      <td>U.S. Postal Service teams up with Canoo for el...</td>\n",
       "    </tr>\n",
       "    <tr>\n",
       "      <th>5</th>\n",
       "      <td>Jan 20 2024</td>\n",
       "      <td>https://electrek.co/2024/01/19/canoo-gets-real...</td>\n",
       "      <td>Canoo gets real as deliveries of its electric ...</td>\n",
       "    </tr>\n",
       "    <tr>\n",
       "      <th>6</th>\n",
       "      <td>Jan 17 2024</td>\n",
       "      <td>https://fleetnewsdaily.com/canoo-created-over-...</td>\n",
       "      <td>Canoo Created Over 100 Jobs in State of Oklaho...</td>\n",
       "    </tr>\n",
       "    <tr>\n",
       "      <th>7</th>\n",
       "      <td>Jan 11 2024</td>\n",
       "      <td>https://www.nwaonline.com/news/2024/jan/11/can...</td>\n",
       "      <td>Canoo adds 100 new hires to Oklahoma plants</td>\n",
       "    </tr>\n",
       "    <tr>\n",
       "      <th>8</th>\n",
       "      <td>Jan 08 2024</td>\n",
       "      <td>https://www.globenewswire.com/news-release/202...</td>\n",
       "      <td>Canoo Acquires Manufacturing Assets to Increas...</td>\n",
       "    </tr>\n",
       "    <tr>\n",
       "      <th>9</th>\n",
       "      <td>Nov 27 2023</td>\n",
       "      <td>https://www.worktruckonline.com/10211040/canoo...</td>\n",
       "      <td>Canoo Deliveres First Electric Lifestyle Deliv...</td>\n",
       "    </tr>\n",
       "  </tbody>\n",
       "</table>\n",
       "</div>"
      ],
      "text/plain": [
       "          Date                                               link  \\\n",
       "1  Feb 02 2024  https://electriccarsreport.com/2024/02/canoo-d...   \n",
       "2  Jan 31 2024  https://seekingalpha.com/news/4060503-canoo-su...   \n",
       "3  Jan 24 2024  https://ngtnews.com/usps-will-purchase-six-can...   \n",
       "4  Jan 24 2024  https://ktul.com/amp/us-postal-service-teams-u...   \n",
       "5  Jan 20 2024  https://electrek.co/2024/01/19/canoo-gets-real...   \n",
       "6  Jan 17 2024  https://fleetnewsdaily.com/canoo-created-over-...   \n",
       "7  Jan 11 2024  https://www.nwaonline.com/news/2024/jan/11/can...   \n",
       "8  Jan 08 2024  https://www.globenewswire.com/news-release/202...   \n",
       "9  Nov 27 2023  https://www.worktruckonline.com/10211040/canoo...   \n",
       "\n",
       "                                             Article  \n",
       "1  Canoo delivers first LDV electric vehicles to ...  \n",
       "2  Canoo successfully expands Zeeba’s fleet with ...  \n",
       "3     USPS Will Purchase Six Canoo Electric Vehicles  \n",
       "4  U.S. Postal Service teams up with Canoo for el...  \n",
       "5  Canoo gets real as deliveries of its electric ...  \n",
       "6  Canoo Created Over 100 Jobs in State of Oklaho...  \n",
       "7        Canoo adds 100 new hires to Oklahoma plants  \n",
       "8  Canoo Acquires Manufacturing Assets to Increas...  \n",
       "9  Canoo Deliveres First Electric Lifestyle Deliv...  "
      ]
     },
     "execution_count": 29,
     "metadata": {},
     "output_type": "execute_result"
    }
   ],
   "source": [
    "\n",
    "df2.Date= df2.Date.apply(lambda x: x[0]+x[1])\n",
    "df2"
   ]
  },
  {
   "cell_type": "markdown",
   "id": "9eeb1331",
   "metadata": {},
   "source": [
    "## Recent Market Trends"
   ]
  },
  {
   "cell_type": "code",
   "execution_count": 30,
   "id": "bddaf3fb",
   "metadata": {},
   "outputs": [
    {
     "name": "stderr",
     "output_type": "stream",
     "text": [
      "2024-02-20 18:12:07 [urllib3.connectionpool] DEBUG: Starting new HTTPS connection (1): www.greenlancer.com:443\n",
      "2024-02-20 18:12:12 [urllib3.connectionpool] DEBUG: https://www.greenlancer.com:443 \"GET /post/ev-market-trends HTTP/1.1\" 200 None\n"
     ]
    }
   ],
   "source": [
    "\n",
    "url =  'https://www.greenlancer.com/post/ev-market-trends#:~:text=Electric%20vehicle%20trends%20for%202024%20include%20lower%20electric%20car%20prices,market%20in%20the%20coming%20year.'\n",
    "response = requests.get(url)\n",
    "html_content = response.content\n",
    "\n",
    "# Create a BeautifulSoup object\n",
    "soup = BeautifulSoup(html_content, 'html.parser')\n",
    "\n",
    "# Find the paragraph by its tag\n",
    "paragraph = soup.find_all('p')\n",
    "\n",
    "# Get the text of the paragraph\n",
    "\n"
   ]
  },
  {
   "cell_type": "code",
   "execution_count": 31,
   "id": "f1461dac",
   "metadata": {},
   "outputs": [
    {
     "data": {
      "text/plain": [
       "['(866) 436-1440',\n",
       " 'Home',\n",
       " 'Services',\n",
       " 'Blog',\n",
       " 'Support Hub',\n",
       " 'About',\n",
       " 'More',\n",
       " 'Updated: Jan 23',\n",
       " \"As we step into 2024, big changes are happening in the EV industry and the electrification of transportation. Electric vehicle trends for 2024 include lower electric car prices, an expansion of EV charging stations, and greater EV charging plug compatibility. Read on to learn about EV industry trends and how they're shaping the future of the electric vehicle market in the coming year.\\xa0\",\n",
       " 'Sales are expected to keep growing in 2024, despite some reports suggesting a decline in 2023. Even though more EVs are sitting unsold at dealerships, the actual electric car sales numbers are still strong and their market share is growing.\\xa0There will be nearly 1.9 million EV sales in the U.S. in 2024, according to projections.',\n",
       " 'The third quarter of 2023 showed the best market growth in EV sales since late 2021, and by September, over 1 million new EVs were sold in 2023. Though EV sales estimates for 2024\\xa0were adjusted down a bit, they still predict a 20% increase from 2023. Cox Automotive also thinks that in 2024, more than 10% of all vehicle sales will be electric, and when including hybrid vehicles, almost 24% of 2024 vehicle sales will be electric or hybrid.',\n",
       " 'EV sales in 2024 are expected to be highest in China, followed by Europe, North America, South Korea, and Japan. In fact, six out of every ten EV sales globally are from China, where intensifying competition is driving down costs and manufacturer profits. Historically, EV sales have increased annually, and this trend is expected to continue throughout 2024. ',\n",
       " \"There are numerous EVs available for under $40,000\\xa0in 2024, especially after applying the federal EV tax credit. Although some car shoppers are priced out of the EV market, prices of electric passenger cars will continue to decrease for some models due to technology advancements. For example, as automakers enhance their battery technologies and formulations, it's anticipated that EV battery prices will decrease.\\xa0\",\n",
       " 'This improvement allows for both extended battery ranges and reduced costs. Considering that batteries make up around 40% of an EV’s total cost, reducing battery expenses is likely to significantly decrease the overall price of EVs, contributing to increased electric car sales. Thus, increasing affordability is an important electric vehicle industry trend for 2024.',\n",
       " 'Indeed EV charging station infrastructure isn’t evenly distributed across the U.S., and California leads the way in the amount of EV charging stations, with more than 10,000 DC fast chargers. Yet, studies show\\xa0that many Americans are wary of buying an EV due to charging issues.\\xa0',\n",
       " '“Consumers need access to safe, reliable, convenient and affordable charging to drive and own an EV, and our research shows real concerns remain,” said Marc Coltelli, EY Americas eMobility Energy Leader. “At the EY organization, we are predicting 82 million EVs will be on US roads by 2035. To scale adoption, the challenge confronting America’s transition to EVs is instilling charging confidence among consumers. The energy industry has a massive role to play in this transition and is seizing the opportunity by collaborating cross-sector to build and power a resilient EV charging network.”',\n",
       " 'Some achievements during 2023 will lay the groundwork for advances in charging infrastructure for the EV industry. These efforts will shape electric vehicle trends for 2024.',\n",
       " \"One major advancement in EV charging relates to the charging ports on EVs, but a series of announcements in 2023 show signs of progress. A joint announcement by seven automakers, including Ford, General Motors, Honda, Mercedes, Nissan, Rivian, and Volvo, reveals plans to adopt Tesla's North American Charging Standard (NACS) for their electric vehicles.\\xa0\",\n",
       " \"This move is set to make the Tesla Supercharger network available to customers of these automakers from 2024 onwards. While most electric vehicles in the United States currently use the Combined Charging Station (CCS) charger plug, this shift signifies broader accessibility to Tesla's robust EV charging network.\\xa0\",\n",
       " 'Tesla’s Supercharger\\xa0is the largest rapid EV charging station network, with over 45,000 chargers in the U.S. A 2023 J.D. Power study\\xa0on EV charging infrastructure shows that Tesla owners are relatively happy with the Supercharger network, but their satisfaction declines considerably when using EV charging stations outside the Tesla network.',\n",
       " 'However, Superchargers have historically only been compatible with Tesla vehicles, and the user experience may change when the network is opened up to non-Tesla drivers. It’s difficult to predict if non-Tesla EV drivers will have the same smooth vehicle charging experience when the network becomes available to them.',\n",
       " 'Seven major automakers unveiled plans last year for a collaborative effort to establish a high-powered electric vehicle charging network\\xa0spanning North America, featuring 30,000 chargers. BMW Group, General Motors, Honda, Hyundai, Kia, Mercedes-Benz Group, and Stellantis NV are joining forces to enhance the convenience, accessibility, and universal compatibility of EV charging.\\xa0',\n",
       " 'Positioned to rival Tesla Superchargers, this EV charging station network aims to capitalize on charger subsidies under the Biden administration. The electric car charging network, set to be operational in 2024 in the U.S. and later in Canada, will be open to any battery electric vehicle using either Tesla’s NACS or CCS charger plugs and will exclusively rely on renewable energy to combat climate change.',\n",
       " 'The growth of the EV industry is creating opportunities for contractors. As the demand for EV charging infrastructure installers continues to grow, contractors face several challenges in this dynamic landscape:',\n",
       " 'EV Charging Station Technology:\\xa0EV charging technology is evolving rapidly with new standards and protocols. Installers must stay updated on the latest trends to effectively install and maintain EV charging station infrastructure.',\n",
       " 'Permitting, Code, and Zoning Requirements: Installing multi-family residential and commercial EV charging stations\\xa0usually involves permits and compliance with local regulations. Installers need to be well-versed in the permitting process to avoid delays and ensure regulatory adherence, or else partner with GreenLancer for permitting and engineering services.',\n",
       " 'Competition:\\xa0With the rising demand for EV charging stations, more players are entering the market. EV infrastructure installers must differentiate themselves through competitive pricing, excellent customer service, and expertise.',\n",
       " 'Despite the challenges, the future holds promise for EV charging station installers, making it a key EV industry trend for 2024.',\n",
       " 'Emerging EV Charging Station Market: The demand for EV charging stations is expected to grow significantly, creating a vast market for installers.',\n",
       " \"Skilled Contractor Workforce: The EV industry's expansion will increase the need for skilled professionals, providing job opportunities for electricians and technicians.\",\n",
       " 'Opportunities for Partnerships: EV charging station installers can explore partnerships with EV manufacturers, utilities, and GreenLancer to expand their reach and offer comprehensive EV charging solutions.',\n",
       " 'The eligibility requirements for federal tax credits for battery electric vehicles (BEVs), plug-in hybrid electric vehicles\\xa0(PHEVs), and fuel cell electric vehicles have changed for vehicles placed in service between January 1 and December 31, 2024. Beginning in 2024, eligibility will be assessed on a per-vehicle basis rather than by model. Also, EV buyers must meet eligibility requirements, including income eligibility.',\n",
       " 'Automakers will submit the Vehicle Identification Numbers (VINs) of qualifying plug-in electric vehicles to the IRS, ensuring that only those specific vehicles are eligible for a tax credit. Car shoppers can obtain information from dealerships regarding the specific eligibility status of individual electric cars.',\n",
       " 'One of the best ways to determine if a specific electric vehicle is eligible is to refer to the Treasury Department\\xa0list.\\xa0',\n",
       " 'Chevrolet Bolt and Bolt EUV\\xa0(2022 and 2023 EV models, priced at or below $55,000, the Bolt was discontinued for the 2024 model year)',\n",
       " 'Chrysler Pacifica Hybrid PHEV\\xa0(2022 to 2024 models, priced at or below $80,000)',\n",
       " 'Ford F-150 Lightning (2022 to 2024 models, priced at or below $80,000)',\n",
       " 'Tesla Model 3 Performance (2023 and 2024 models, priced at or below $55,000)',\n",
       " 'Tesla Model X Long Range\\xa0(2023 and 2024 models, priced at or below $80,000)',\n",
       " 'Tesla Model Y All-Wheel Drive\\xa0(2023 and 2024 models, priced at or below $80,000); Performance (2023 and 2024 models, priced at or below $80,000); and Rear-Wheel Drive (2024 model year only, priced at or below $80,000)',\n",
       " 'Ford Escape Plug-In Hybrid\\xa0(2022 to 2024 models, priced at or below $80,000)',\n",
       " 'Jeep Grand Cherokee 4xe Plug-In Hybrid\\xa0(2022 to 2024 models, priced at or below $80,000)',\n",
       " 'Jeep Wrangler 4xe Plug-In Hybrid SUV (2022 to 2024 models, priced at or below $80,000)',\n",
       " 'Lincoln Corsair Grand Touring\\xa0Plug-In Hybrid (2022 to 2024 models, priced at or below $80,000)',\n",
       " 'Rivian R1S and R1T (2022 to 2024 models, priced at or below $80,000)',\n",
       " 'The electric vehicle market is experiencing significant growth. This trend towards sustainable transportation is motivated by various factors, including heightened environmental concerns and the imperative to reduce greenhouse gas emissions, widespread governmental incentives and policies supporting EV adoption, continuous advancements in battery technology resulting in longer driving ranges, and the decreasing costs of electric vehicles.\\xa0',\n",
       " 'As the demand for electric vehicles intensifies, the necessity for fortifying the EV charging infrastructure becomes increasingly evident. Drivers depend on a robust network of electric car charging stations to ensure the continuous operation of their vehicles, presenting abundant opportunities for professionals within the EV charging station industry.',\n",
       " 'GreenLancer works with contractors to simplify the EV charging station permitting and engineering process. Our services include EV charging station plan sets, PE stamps, and engineering reviews.\\xa0',\n",
       " 'Submit the form below to learn more.',\n",
       " 'How Far Can An Electric Car Go?',\n",
       " 'A Guide To Solar Panel Wiring',\n",
       " 'A Quick Guide To IRS Form 5695',\n",
       " 'Quick Links',\n",
       " 'Resources',\n",
       " 'Contact Us',\n",
       " 'Project Map',\n",
       " 'Residential Site Survey Checklist',\n",
       " 'Commercial Site Survey Checklist',\n",
       " '\\xa0',\n",
       " 'Solar Sign Up',\n",
       " 'Solar Log\\xa0In',\n",
       " '\\u200b',\n",
       " 'EV Sign Up',\n",
       " 'EV Log In',\n",
       " '(866) 436-1440',\n",
       " 'Support Hub',\n",
       " 'Careers Page',\n",
       " 'User Agreement',\n",
       " 'Privacy Policy',\n",
       " '©2024 by Greenlancer.com',\n",
       " 'Detroit | MI | USA']"
      ]
     },
     "execution_count": 31,
     "metadata": {},
     "output_type": "execute_result"
    }
   ],
   "source": [
    "trends=[]\n",
    "cnt=0\n",
    "for para in paragraph:\n",
    "    trends.append(para.get_text())\n",
    "trends   "
   ]
  },
  {
   "cell_type": "code",
   "execution_count": 32,
   "id": "808d64c7",
   "metadata": {},
   "outputs": [],
   "source": [
    "# removing unwanted Text\n",
    "for i in range(len(trends)):\n",
    "    trends[i] =re.sub(r\"\\xa0\", \"\", trends[i])"
   ]
  },
  {
   "cell_type": "code",
   "execution_count": 33,
   "id": "b5d04d61",
   "metadata": {},
   "outputs": [
    {
     "data": {
      "text/plain": [
       "['(866) 436-1440',\n",
       " 'Home',\n",
       " 'Services',\n",
       " 'Blog',\n",
       " 'Support Hub',\n",
       " 'About',\n",
       " 'More',\n",
       " 'Updated: Jan 23',\n",
       " \"As we step into 2024, big changes are happening in the EV industry and the electrification of transportation. Electric vehicle trends for 2024 include lower electric car prices, an expansion of EV charging stations, and greater EV charging plug compatibility. Read on to learn about EV industry trends and how they're shaping the future of the electric vehicle market in the coming year.\",\n",
       " 'Sales are expected to keep growing in 2024, despite some reports suggesting a decline in 2023. Even though more EVs are sitting unsold at dealerships, the actual electric car sales numbers are still strong and their market share is growing.There will be nearly 1.9 million EV sales in the U.S. in 2024, according to projections.',\n",
       " 'The third quarter of 2023 showed the best market growth in EV sales since late 2021, and by September, over 1 million new EVs were sold in 2023. Though EV sales estimates for 2024were adjusted down a bit, they still predict a 20% increase from 2023. Cox Automotive also thinks that in 2024, more than 10% of all vehicle sales will be electric, and when including hybrid vehicles, almost 24% of 2024 vehicle sales will be electric or hybrid.',\n",
       " 'EV sales in 2024 are expected to be highest in China, followed by Europe, North America, South Korea, and Japan. In fact, six out of every ten EV sales globally are from China, where intensifying competition is driving down costs and manufacturer profits. Historically, EV sales have increased annually, and this trend is expected to continue throughout 2024. ',\n",
       " \"There are numerous EVs available for under $40,000in 2024, especially after applying the federal EV tax credit. Although some car shoppers are priced out of the EV market, prices of electric passenger cars will continue to decrease for some models due to technology advancements. For example, as automakers enhance their battery technologies and formulations, it's anticipated that EV battery prices will decrease.\",\n",
       " 'This improvement allows for both extended battery ranges and reduced costs. Considering that batteries make up around 40% of an EV’s total cost, reducing battery expenses is likely to significantly decrease the overall price of EVs, contributing to increased electric car sales. Thus, increasing affordability is an important electric vehicle industry trend for 2024.',\n",
       " 'Indeed EV charging station infrastructure isn’t evenly distributed across the U.S., and California leads the way in the amount of EV charging stations, with more than 10,000 DC fast chargers. Yet, studies showthat many Americans are wary of buying an EV due to charging issues.',\n",
       " '“Consumers need access to safe, reliable, convenient and affordable charging to drive and own an EV, and our research shows real concerns remain,” said Marc Coltelli, EY Americas eMobility Energy Leader. “At the EY organization, we are predicting 82 million EVs will be on US roads by 2035. To scale adoption, the challenge confronting America’s transition to EVs is instilling charging confidence among consumers. The energy industry has a massive role to play in this transition and is seizing the opportunity by collaborating cross-sector to build and power a resilient EV charging network.”',\n",
       " 'Some achievements during 2023 will lay the groundwork for advances in charging infrastructure for the EV industry. These efforts will shape electric vehicle trends for 2024.',\n",
       " \"One major advancement in EV charging relates to the charging ports on EVs, but a series of announcements in 2023 show signs of progress. A joint announcement by seven automakers, including Ford, General Motors, Honda, Mercedes, Nissan, Rivian, and Volvo, reveals plans to adopt Tesla's North American Charging Standard (NACS) for their electric vehicles.\",\n",
       " \"This move is set to make the Tesla Supercharger network available to customers of these automakers from 2024 onwards. While most electric vehicles in the United States currently use the Combined Charging Station (CCS) charger plug, this shift signifies broader accessibility to Tesla's robust EV charging network.\",\n",
       " 'Tesla’s Superchargeris the largest rapid EV charging station network, with over 45,000 chargers in the U.S. A 2023 J.D. Power studyon EV charging infrastructure shows that Tesla owners are relatively happy with the Supercharger network, but their satisfaction declines considerably when using EV charging stations outside the Tesla network.',\n",
       " 'However, Superchargers have historically only been compatible with Tesla vehicles, and the user experience may change when the network is opened up to non-Tesla drivers. It’s difficult to predict if non-Tesla EV drivers will have the same smooth vehicle charging experience when the network becomes available to them.',\n",
       " 'Seven major automakers unveiled plans last year for a collaborative effort to establish a high-powered electric vehicle charging networkspanning North America, featuring 30,000 chargers. BMW Group, General Motors, Honda, Hyundai, Kia, Mercedes-Benz Group, and Stellantis NV are joining forces to enhance the convenience, accessibility, and universal compatibility of EV charging.',\n",
       " 'Positioned to rival Tesla Superchargers, this EV charging station network aims to capitalize on charger subsidies under the Biden administration. The electric car charging network, set to be operational in 2024 in the U.S. and later in Canada, will be open to any battery electric vehicle using either Tesla’s NACS or CCS charger plugs and will exclusively rely on renewable energy to combat climate change.',\n",
       " 'The growth of the EV industry is creating opportunities for contractors. As the demand for EV charging infrastructure installers continues to grow, contractors face several challenges in this dynamic landscape:',\n",
       " 'EV Charging Station Technology:EV charging technology is evolving rapidly with new standards and protocols. Installers must stay updated on the latest trends to effectively install and maintain EV charging station infrastructure.',\n",
       " 'Permitting, Code, and Zoning Requirements: Installing multi-family residential and commercial EV charging stationsusually involves permits and compliance with local regulations. Installers need to be well-versed in the permitting process to avoid delays and ensure regulatory adherence, or else partner with GreenLancer for permitting and engineering services.',\n",
       " 'Competition:With the rising demand for EV charging stations, more players are entering the market. EV infrastructure installers must differentiate themselves through competitive pricing, excellent customer service, and expertise.',\n",
       " 'Despite the challenges, the future holds promise for EV charging station installers, making it a key EV industry trend for 2024.',\n",
       " 'Emerging EV Charging Station Market: The demand for EV charging stations is expected to grow significantly, creating a vast market for installers.',\n",
       " \"Skilled Contractor Workforce: The EV industry's expansion will increase the need for skilled professionals, providing job opportunities for electricians and technicians.\",\n",
       " 'Opportunities for Partnerships: EV charging station installers can explore partnerships with EV manufacturers, utilities, and GreenLancer to expand their reach and offer comprehensive EV charging solutions.',\n",
       " 'The eligibility requirements for federal tax credits for battery electric vehicles (BEVs), plug-in hybrid electric vehicles(PHEVs), and fuel cell electric vehicles have changed for vehicles placed in service between January 1 and December 31, 2024. Beginning in 2024, eligibility will be assessed on a per-vehicle basis rather than by model. Also, EV buyers must meet eligibility requirements, including income eligibility.',\n",
       " 'Automakers will submit the Vehicle Identification Numbers (VINs) of qualifying plug-in electric vehicles to the IRS, ensuring that only those specific vehicles are eligible for a tax credit. Car shoppers can obtain information from dealerships regarding the specific eligibility status of individual electric cars.',\n",
       " 'One of the best ways to determine if a specific electric vehicle is eligible is to refer to the Treasury Departmentlist.',\n",
       " 'Chevrolet Bolt and Bolt EUV(2022 and 2023 EV models, priced at or below $55,000, the Bolt was discontinued for the 2024 model year)',\n",
       " 'Chrysler Pacifica Hybrid PHEV(2022 to 2024 models, priced at or below $80,000)',\n",
       " 'Ford F-150 Lightning (2022 to 2024 models, priced at or below $80,000)',\n",
       " 'Tesla Model 3 Performance (2023 and 2024 models, priced at or below $55,000)',\n",
       " 'Tesla Model X Long Range(2023 and 2024 models, priced at or below $80,000)',\n",
       " 'Tesla Model Y All-Wheel Drive(2023 and 2024 models, priced at or below $80,000); Performance (2023 and 2024 models, priced at or below $80,000); and Rear-Wheel Drive (2024 model year only, priced at or below $80,000)',\n",
       " 'Ford Escape Plug-In Hybrid(2022 to 2024 models, priced at or below $80,000)',\n",
       " 'Jeep Grand Cherokee 4xe Plug-In Hybrid(2022 to 2024 models, priced at or below $80,000)',\n",
       " 'Jeep Wrangler 4xe Plug-In Hybrid SUV (2022 to 2024 models, priced at or below $80,000)',\n",
       " 'Lincoln Corsair Grand TouringPlug-In Hybrid (2022 to 2024 models, priced at or below $80,000)',\n",
       " 'Rivian R1S and R1T (2022 to 2024 models, priced at or below $80,000)',\n",
       " 'The electric vehicle market is experiencing significant growth. This trend towards sustainable transportation is motivated by various factors, including heightened environmental concerns and the imperative to reduce greenhouse gas emissions, widespread governmental incentives and policies supporting EV adoption, continuous advancements in battery technology resulting in longer driving ranges, and the decreasing costs of electric vehicles.',\n",
       " 'As the demand for electric vehicles intensifies, the necessity for fortifying the EV charging infrastructure becomes increasingly evident. Drivers depend on a robust network of electric car charging stations to ensure the continuous operation of their vehicles, presenting abundant opportunities for professionals within the EV charging station industry.',\n",
       " 'GreenLancer works with contractors to simplify the EV charging station permitting and engineering process. Our services include EV charging station plan sets, PE stamps, and engineering reviews.',\n",
       " 'Submit the form below to learn more.',\n",
       " 'How Far Can An Electric Car Go?',\n",
       " 'A Guide To Solar Panel Wiring',\n",
       " 'A Quick Guide To IRS Form 5695',\n",
       " 'Quick Links',\n",
       " 'Resources',\n",
       " 'Contact Us',\n",
       " 'Project Map',\n",
       " 'Residential Site Survey Checklist',\n",
       " 'Commercial Site Survey Checklist',\n",
       " '',\n",
       " 'Solar Sign Up',\n",
       " 'Solar LogIn',\n",
       " '\\u200b',\n",
       " 'EV Sign Up',\n",
       " 'EV Log In',\n",
       " '(866) 436-1440',\n",
       " 'Support Hub',\n",
       " 'Careers Page',\n",
       " 'User Agreement',\n",
       " 'Privacy Policy',\n",
       " '©2024 by Greenlancer.com',\n",
       " 'Detroit | MI | USA']"
      ]
     },
     "execution_count": 33,
     "metadata": {},
     "output_type": "execute_result"
    }
   ],
   "source": [
    "trends"
   ]
  },
  {
   "cell_type": "code",
   "execution_count": 34,
   "id": "c65a9c64",
   "metadata": {},
   "outputs": [],
   "source": [
    "# removing unwanted Text\n",
    "a=trends.index('Updated: Jan 23')\n",
    "b=trends.index('Submit the form below to learn more.')"
   ]
  },
  {
   "cell_type": "code",
   "execution_count": 35,
   "id": "5cd7d2be",
   "metadata": {},
   "outputs": [
    {
     "data": {
      "text/plain": [
       "[\"As we step into 2024, big changes are happening in the EV industry and the electrification of transportation. Electric vehicle trends for 2024 include lower electric car prices, an expansion of EV charging stations, and greater EV charging plug compatibility. Read on to learn about EV industry trends and how they're shaping the future of the electric vehicle market in the coming year.\",\n",
       " 'Sales are expected to keep growing in 2024, despite some reports suggesting a decline in 2023. Even though more EVs are sitting unsold at dealerships, the actual electric car sales numbers are still strong and their market share is growing.There will be nearly 1.9 million EV sales in the U.S. in 2024, according to projections.',\n",
       " 'The third quarter of 2023 showed the best market growth in EV sales since late 2021, and by September, over 1 million new EVs were sold in 2023. Though EV sales estimates for 2024were adjusted down a bit, they still predict a 20% increase from 2023. Cox Automotive also thinks that in 2024, more than 10% of all vehicle sales will be electric, and when including hybrid vehicles, almost 24% of 2024 vehicle sales will be electric or hybrid.',\n",
       " 'EV sales in 2024 are expected to be highest in China, followed by Europe, North America, South Korea, and Japan. In fact, six out of every ten EV sales globally are from China, where intensifying competition is driving down costs and manufacturer profits. Historically, EV sales have increased annually, and this trend is expected to continue throughout 2024. ',\n",
       " \"There are numerous EVs available for under $40,000in 2024, especially after applying the federal EV tax credit. Although some car shoppers are priced out of the EV market, prices of electric passenger cars will continue to decrease for some models due to technology advancements. For example, as automakers enhance their battery technologies and formulations, it's anticipated that EV battery prices will decrease.\",\n",
       " 'This improvement allows for both extended battery ranges and reduced costs. Considering that batteries make up around 40% of an EV’s total cost, reducing battery expenses is likely to significantly decrease the overall price of EVs, contributing to increased electric car sales. Thus, increasing affordability is an important electric vehicle industry trend for 2024.',\n",
       " 'Indeed EV charging station infrastructure isn’t evenly distributed across the U.S., and California leads the way in the amount of EV charging stations, with more than 10,000 DC fast chargers. Yet, studies showthat many Americans are wary of buying an EV due to charging issues.',\n",
       " '“Consumers need access to safe, reliable, convenient and affordable charging to drive and own an EV, and our research shows real concerns remain,” said Marc Coltelli, EY Americas eMobility Energy Leader. “At the EY organization, we are predicting 82 million EVs will be on US roads by 2035. To scale adoption, the challenge confronting America’s transition to EVs is instilling charging confidence among consumers. The energy industry has a massive role to play in this transition and is seizing the opportunity by collaborating cross-sector to build and power a resilient EV charging network.”',\n",
       " 'Some achievements during 2023 will lay the groundwork for advances in charging infrastructure for the EV industry. These efforts will shape electric vehicle trends for 2024.',\n",
       " \"One major advancement in EV charging relates to the charging ports on EVs, but a series of announcements in 2023 show signs of progress. A joint announcement by seven automakers, including Ford, General Motors, Honda, Mercedes, Nissan, Rivian, and Volvo, reveals plans to adopt Tesla's North American Charging Standard (NACS) for their electric vehicles.\",\n",
       " \"This move is set to make the Tesla Supercharger network available to customers of these automakers from 2024 onwards. While most electric vehicles in the United States currently use the Combined Charging Station (CCS) charger plug, this shift signifies broader accessibility to Tesla's robust EV charging network.\",\n",
       " 'Tesla’s Superchargeris the largest rapid EV charging station network, with over 45,000 chargers in the U.S. A 2023 J.D. Power studyon EV charging infrastructure shows that Tesla owners are relatively happy with the Supercharger network, but their satisfaction declines considerably when using EV charging stations outside the Tesla network.',\n",
       " 'However, Superchargers have historically only been compatible with Tesla vehicles, and the user experience may change when the network is opened up to non-Tesla drivers. It’s difficult to predict if non-Tesla EV drivers will have the same smooth vehicle charging experience when the network becomes available to them.',\n",
       " 'Seven major automakers unveiled plans last year for a collaborative effort to establish a high-powered electric vehicle charging networkspanning North America, featuring 30,000 chargers. BMW Group, General Motors, Honda, Hyundai, Kia, Mercedes-Benz Group, and Stellantis NV are joining forces to enhance the convenience, accessibility, and universal compatibility of EV charging.',\n",
       " 'Positioned to rival Tesla Superchargers, this EV charging station network aims to capitalize on charger subsidies under the Biden administration. The electric car charging network, set to be operational in 2024 in the U.S. and later in Canada, will be open to any battery electric vehicle using either Tesla’s NACS or CCS charger plugs and will exclusively rely on renewable energy to combat climate change.',\n",
       " 'The growth of the EV industry is creating opportunities for contractors. As the demand for EV charging infrastructure installers continues to grow, contractors face several challenges in this dynamic landscape:',\n",
       " 'EV Charging Station Technology:EV charging technology is evolving rapidly with new standards and protocols. Installers must stay updated on the latest trends to effectively install and maintain EV charging station infrastructure.',\n",
       " 'Permitting, Code, and Zoning Requirements: Installing multi-family residential and commercial EV charging stationsusually involves permits and compliance with local regulations. Installers need to be well-versed in the permitting process to avoid delays and ensure regulatory adherence, or else partner with GreenLancer for permitting and engineering services.',\n",
       " 'Competition:With the rising demand for EV charging stations, more players are entering the market. EV infrastructure installers must differentiate themselves through competitive pricing, excellent customer service, and expertise.',\n",
       " 'Despite the challenges, the future holds promise for EV charging station installers, making it a key EV industry trend for 2024.',\n",
       " 'Emerging EV Charging Station Market: The demand for EV charging stations is expected to grow significantly, creating a vast market for installers.',\n",
       " \"Skilled Contractor Workforce: The EV industry's expansion will increase the need for skilled professionals, providing job opportunities for electricians and technicians.\",\n",
       " 'Opportunities for Partnerships: EV charging station installers can explore partnerships with EV manufacturers, utilities, and GreenLancer to expand their reach and offer comprehensive EV charging solutions.',\n",
       " 'The eligibility requirements for federal tax credits for battery electric vehicles (BEVs), plug-in hybrid electric vehicles(PHEVs), and fuel cell electric vehicles have changed for vehicles placed in service between January 1 and December 31, 2024. Beginning in 2024, eligibility will be assessed on a per-vehicle basis rather than by model. Also, EV buyers must meet eligibility requirements, including income eligibility.',\n",
       " 'Automakers will submit the Vehicle Identification Numbers (VINs) of qualifying plug-in electric vehicles to the IRS, ensuring that only those specific vehicles are eligible for a tax credit. Car shoppers can obtain information from dealerships regarding the specific eligibility status of individual electric cars.',\n",
       " 'One of the best ways to determine if a specific electric vehicle is eligible is to refer to the Treasury Departmentlist.',\n",
       " 'Chevrolet Bolt and Bolt EUV(2022 and 2023 EV models, priced at or below $55,000, the Bolt was discontinued for the 2024 model year)',\n",
       " 'Chrysler Pacifica Hybrid PHEV(2022 to 2024 models, priced at or below $80,000)',\n",
       " 'Ford F-150 Lightning (2022 to 2024 models, priced at or below $80,000)',\n",
       " 'Tesla Model 3 Performance (2023 and 2024 models, priced at or below $55,000)',\n",
       " 'Tesla Model X Long Range(2023 and 2024 models, priced at or below $80,000)',\n",
       " 'Tesla Model Y All-Wheel Drive(2023 and 2024 models, priced at or below $80,000); Performance (2023 and 2024 models, priced at or below $80,000); and Rear-Wheel Drive (2024 model year only, priced at or below $80,000)',\n",
       " 'Ford Escape Plug-In Hybrid(2022 to 2024 models, priced at or below $80,000)',\n",
       " 'Jeep Grand Cherokee 4xe Plug-In Hybrid(2022 to 2024 models, priced at or below $80,000)',\n",
       " 'Jeep Wrangler 4xe Plug-In Hybrid SUV (2022 to 2024 models, priced at or below $80,000)',\n",
       " 'Lincoln Corsair Grand TouringPlug-In Hybrid (2022 to 2024 models, priced at or below $80,000)',\n",
       " 'Rivian R1S and R1T (2022 to 2024 models, priced at or below $80,000)',\n",
       " 'The electric vehicle market is experiencing significant growth. This trend towards sustainable transportation is motivated by various factors, including heightened environmental concerns and the imperative to reduce greenhouse gas emissions, widespread governmental incentives and policies supporting EV adoption, continuous advancements in battery technology resulting in longer driving ranges, and the decreasing costs of electric vehicles.',\n",
       " 'As the demand for electric vehicles intensifies, the necessity for fortifying the EV charging infrastructure becomes increasingly evident. Drivers depend on a robust network of electric car charging stations to ensure the continuous operation of their vehicles, presenting abundant opportunities for professionals within the EV charging station industry.',\n",
       " 'GreenLancer works with contractors to simplify the EV charging station permitting and engineering process. Our services include EV charging station plan sets, PE stamps, and engineering reviews.']"
      ]
     },
     "execution_count": 35,
     "metadata": {},
     "output_type": "execute_result"
    }
   ],
   "source": [
    "trends=trends[a+1:b]\n",
    "trends"
   ]
  },
  {
   "cell_type": "markdown",
   "id": "92015584",
   "metadata": {},
   "source": [
    "## Financial Info"
   ]
  },
  {
   "cell_type": "code",
   "execution_count": 7,
   "id": "d6094bc2",
   "metadata": {},
   "outputs": [
    {
     "name": "stderr",
     "output_type": "stream",
     "text": [
      "C:\\Users\\NITIN\\anaconda3.1\\lib\\site-packages\\numpy\\_distributor_init.py:30: UserWarning: loaded more than 1 DLL from .libs:\n",
      "C:\\Users\\NITIN\\anaconda3.1\\lib\\site-packages\\numpy\\.libs\\libopenblas.EL2C6PLE4ZYW3ECEVIV3OXXGRN2NRFM2.gfortran-win_amd64.dll\n",
      "C:\\Users\\NITIN\\anaconda3.1\\lib\\site-packages\\numpy\\.libs\\libopenblas64__v0.3.21-gcc_10_3_0.dll\n",
      "  warnings.warn(\"loaded more than 1 DLL from .libs:\"\n"
     ]
    },
    {
     "data": {
      "text/html": [
       "<div>\n",
       "<style scoped>\n",
       "    .dataframe tbody tr th:only-of-type {\n",
       "        vertical-align: middle;\n",
       "    }\n",
       "\n",
       "    .dataframe tbody tr th {\n",
       "        vertical-align: top;\n",
       "    }\n",
       "\n",
       "    .dataframe thead th {\n",
       "        text-align: right;\n",
       "    }\n",
       "</style>\n",
       "<table border=\"1\" class=\"dataframe\">\n",
       "  <thead>\n",
       "    <tr style=\"text-align: right;\">\n",
       "      <th></th>\n",
       "      <th>value1</th>\n",
       "      <th>value2</th>\n",
       "      <th>value3</th>\n",
       "      <th>value4</th>\n",
       "      <th>value5</th>\n",
       "    </tr>\n",
       "  </thead>\n",
       "  <tbody>\n",
       "    <tr>\n",
       "      <th>0</th>\n",
       "      <td>Total Revenue</td>\n",
       "      <td>--</td>\n",
       "      <td>--</td>\n",
       "      <td>$2,550</td>\n",
       "      <td>--</td>\n",
       "    </tr>\n",
       "    <tr>\n",
       "      <th>1</th>\n",
       "      <td>Cost of Revenue</td>\n",
       "      <td>--</td>\n",
       "      <td>--</td>\n",
       "      <td>$670</td>\n",
       "      <td>--</td>\n",
       "    </tr>\n",
       "    <tr>\n",
       "      <th>2</th>\n",
       "      <td>Gross Profit</td>\n",
       "      <td>--</td>\n",
       "      <td>--</td>\n",
       "      <td>$1,880</td>\n",
       "      <td>--</td>\n",
       "    </tr>\n",
       "    <tr>\n",
       "      <th>3</th>\n",
       "      <td>Operating Expenses</td>\n",
       "      <td></td>\n",
       "      <td></td>\n",
       "      <td></td>\n",
       "      <td></td>\n",
       "    </tr>\n",
       "    <tr>\n",
       "      <th>4</th>\n",
       "      <td>Research and Development</td>\n",
       "      <td>$299,218</td>\n",
       "      <td>$246,245</td>\n",
       "      <td>$142,862</td>\n",
       "      <td>$137,378</td>\n",
       "    </tr>\n",
       "  </tbody>\n",
       "</table>\n",
       "</div>"
      ],
      "text/plain": [
       "                     value1    value2    value3    value4    value5\n",
       "0             Total Revenue        --        --    $2,550        --\n",
       "1           Cost of Revenue        --        --      $670        --\n",
       "2              Gross Profit        --        --    $1,880        --\n",
       "3        Operating Expenses                                        \n",
       "4  Research and Development  $299,218  $246,245  $142,862  $137,378"
      ]
     },
     "execution_count": 7,
     "metadata": {},
     "output_type": "execute_result"
    }
   ],
   "source": [
    "import requests\n",
    "import pandas as pd\n",
    "url = 'https://api.nasdaq.com/api/company/GOEV/financials'\n",
    "headers = {\n",
    "    'accept': 'application/json, text/plain, */*',\n",
    "    'origin': 'https://www.nasdaq.com',\n",
    "'User-Agent': 'Mozilla/5.0 (X11; Linux x86_64) AppleWebKit/537.36 (KHTML, like Gecko) Chrome/104.0.5112.79 Safari/537.36'\n",
    "}\n",
    "\n",
    "\n",
    "r = requests.get(url, headers=headers)\n",
    "df = pd.json_normalize(r.json()['data']['incomeStatementTable']['rows'])\n",
    "df.head()"
   ]
  },
  {
   "cell_type": "code",
   "execution_count": 8,
   "id": "0f3482df",
   "metadata": {},
   "outputs": [],
   "source": [
    "df.columns=[\"Period Ending\",\"12-31-22\",\"12-31-2021\",\"12-31-2020\",\"12-31-2019\"]"
   ]
  },
  {
   "cell_type": "code",
   "execution_count": 9,
   "id": "f3c25a86",
   "metadata": {},
   "outputs": [],
   "source": [
    "df = df.set_index(\"Period Ending\")"
   ]
  },
  {
   "cell_type": "code",
   "execution_count": 10,
   "id": "8fdcadaf",
   "metadata": {},
   "outputs": [
    {
     "data": {
      "text/html": [
       "<div>\n",
       "<style scoped>\n",
       "    .dataframe tbody tr th:only-of-type {\n",
       "        vertical-align: middle;\n",
       "    }\n",
       "\n",
       "    .dataframe tbody tr th {\n",
       "        vertical-align: top;\n",
       "    }\n",
       "\n",
       "    .dataframe thead th {\n",
       "        text-align: right;\n",
       "    }\n",
       "</style>\n",
       "<table border=\"1\" class=\"dataframe\">\n",
       "  <thead>\n",
       "    <tr style=\"text-align: right;\">\n",
       "      <th></th>\n",
       "      <th>12-31-22</th>\n",
       "      <th>12-31-2021</th>\n",
       "      <th>12-31-2020</th>\n",
       "      <th>12-31-2019</th>\n",
       "    </tr>\n",
       "    <tr>\n",
       "      <th>Period Ending</th>\n",
       "      <th></th>\n",
       "      <th></th>\n",
       "      <th></th>\n",
       "      <th></th>\n",
       "    </tr>\n",
       "  </thead>\n",
       "  <tbody>\n",
       "    <tr>\n",
       "      <th>Total Revenue</th>\n",
       "      <td>--</td>\n",
       "      <td>--</td>\n",
       "      <td>$2,550</td>\n",
       "      <td>--</td>\n",
       "    </tr>\n",
       "    <tr>\n",
       "      <th>Cost of Revenue</th>\n",
       "      <td>--</td>\n",
       "      <td>--</td>\n",
       "      <td>$670</td>\n",
       "      <td>--</td>\n",
       "    </tr>\n",
       "    <tr>\n",
       "      <th>Gross Profit</th>\n",
       "      <td>--</td>\n",
       "      <td>--</td>\n",
       "      <td>$1,880</td>\n",
       "      <td>--</td>\n",
       "    </tr>\n",
       "    <tr>\n",
       "      <th>Operating Expenses</th>\n",
       "      <td></td>\n",
       "      <td></td>\n",
       "      <td></td>\n",
       "      <td></td>\n",
       "    </tr>\n",
       "    <tr>\n",
       "      <th>Research and Development</th>\n",
       "      <td>$299,218</td>\n",
       "      <td>$246,245</td>\n",
       "      <td>$142,862</td>\n",
       "      <td>$137,378</td>\n",
       "    </tr>\n",
       "    <tr>\n",
       "      <th>Sales, General and Admin.</th>\n",
       "      <td>$196,029</td>\n",
       "      <td>$194,736</td>\n",
       "      <td>$51,611</td>\n",
       "      <td>$31,553</td>\n",
       "    </tr>\n",
       "    <tr>\n",
       "      <th>Non-Recurring Items</th>\n",
       "      <td>--</td>\n",
       "      <td>--</td>\n",
       "      <td>--</td>\n",
       "      <td>--</td>\n",
       "    </tr>\n",
       "    <tr>\n",
       "      <th>Other Operating Items</th>\n",
       "      <td>$11,554</td>\n",
       "      <td>$8,921</td>\n",
       "      <td>$7,125</td>\n",
       "      <td>$4,729</td>\n",
       "    </tr>\n",
       "    <tr>\n",
       "      <th>Operating Income</th>\n",
       "      <td>-$506,801</td>\n",
       "      <td>-$449,902</td>\n",
       "      <td>-$199,718</td>\n",
       "      <td>-$173,660</td>\n",
       "    </tr>\n",
       "    <tr>\n",
       "      <th>Add'l income/expense items</th>\n",
       "      <td>$21,356</td>\n",
       "      <td>$103,031</td>\n",
       "      <td>$123,513</td>\n",
       "      <td>$822</td>\n",
       "    </tr>\n",
       "    <tr>\n",
       "      <th>Earnings Before Interest and Tax</th>\n",
       "      <td>-$487,694</td>\n",
       "      <td>-$346,768</td>\n",
       "      <td>-$86,684</td>\n",
       "      <td>-$172,838</td>\n",
       "    </tr>\n",
       "    <tr>\n",
       "      <th>Interest Expense</th>\n",
       "      <td>--</td>\n",
       "      <td>--</td>\n",
       "      <td>--</td>\n",
       "      <td>$9,522</td>\n",
       "    </tr>\n",
       "    <tr>\n",
       "      <th>Earnings Before Tax</th>\n",
       "      <td>-$487,694</td>\n",
       "      <td>-$346,768</td>\n",
       "      <td>-$86,684</td>\n",
       "      <td>-$182,360</td>\n",
       "    </tr>\n",
       "    <tr>\n",
       "      <th>Income Tax</th>\n",
       "      <td>--</td>\n",
       "      <td>--</td>\n",
       "      <td>$2</td>\n",
       "      <td>--</td>\n",
       "    </tr>\n",
       "    <tr>\n",
       "      <th>Minority Interest</th>\n",
       "      <td>--</td>\n",
       "      <td>--</td>\n",
       "      <td>--</td>\n",
       "      <td>--</td>\n",
       "    </tr>\n",
       "    <tr>\n",
       "      <th>Equity Earnings/Loss Unconsolidated Subsidiary</th>\n",
       "      <td>--</td>\n",
       "      <td>--</td>\n",
       "      <td>--</td>\n",
       "      <td>--</td>\n",
       "    </tr>\n",
       "    <tr>\n",
       "      <th>Net Income-Cont. Operations</th>\n",
       "      <td>-$487,694</td>\n",
       "      <td>-$346,768</td>\n",
       "      <td>-$86,686</td>\n",
       "      <td>-$182,360</td>\n",
       "    </tr>\n",
       "    <tr>\n",
       "      <th>Net Income</th>\n",
       "      <td>-$487,694</td>\n",
       "      <td>-$346,768</td>\n",
       "      <td>-$86,686</td>\n",
       "      <td>-$182,360</td>\n",
       "    </tr>\n",
       "    <tr>\n",
       "      <th>Net Income Applicable to Common Shareholders</th>\n",
       "      <td>-$487,694</td>\n",
       "      <td>-$346,768</td>\n",
       "      <td>-$86,686</td>\n",
       "      <td>-$182,360</td>\n",
       "    </tr>\n",
       "  </tbody>\n",
       "</table>\n",
       "</div>"
      ],
      "text/plain": [
       "                                                 12-31-22 12-31-2021  \\\n",
       "Period Ending                                                          \n",
       "Total Revenue                                          --         --   \n",
       "Cost of Revenue                                        --         --   \n",
       "Gross Profit                                           --         --   \n",
       "Operating Expenses                                                     \n",
       "Research and Development                         $299,218   $246,245   \n",
       "Sales, General and Admin.                        $196,029   $194,736   \n",
       "Non-Recurring Items                                    --         --   \n",
       "Other Operating Items                             $11,554     $8,921   \n",
       "Operating Income                                -$506,801  -$449,902   \n",
       "Add'l income/expense items                        $21,356   $103,031   \n",
       "Earnings Before Interest and Tax                -$487,694  -$346,768   \n",
       "Interest Expense                                       --         --   \n",
       "Earnings Before Tax                             -$487,694  -$346,768   \n",
       "Income Tax                                             --         --   \n",
       "Minority Interest                                      --         --   \n",
       "Equity Earnings/Loss Unconsolidated Subsidiary         --         --   \n",
       "Net Income-Cont. Operations                     -$487,694  -$346,768   \n",
       "Net Income                                      -$487,694  -$346,768   \n",
       "Net Income Applicable to Common Shareholders    -$487,694  -$346,768   \n",
       "\n",
       "                                               12-31-2020 12-31-2019  \n",
       "Period Ending                                                         \n",
       "Total Revenue                                      $2,550         --  \n",
       "Cost of Revenue                                      $670         --  \n",
       "Gross Profit                                       $1,880         --  \n",
       "Operating Expenses                                                    \n",
       "Research and Development                         $142,862   $137,378  \n",
       "Sales, General and Admin.                         $51,611    $31,553  \n",
       "Non-Recurring Items                                    --         --  \n",
       "Other Operating Items                              $7,125     $4,729  \n",
       "Operating Income                                -$199,718  -$173,660  \n",
       "Add'l income/expense items                       $123,513       $822  \n",
       "Earnings Before Interest and Tax                 -$86,684  -$172,838  \n",
       "Interest Expense                                       --     $9,522  \n",
       "Earnings Before Tax                              -$86,684  -$182,360  \n",
       "Income Tax                                             $2         --  \n",
       "Minority Interest                                      --         --  \n",
       "Equity Earnings/Loss Unconsolidated Subsidiary         --         --  \n",
       "Net Income-Cont. Operations                      -$86,686  -$182,360  \n",
       "Net Income                                       -$86,686  -$182,360  \n",
       "Net Income Applicable to Common Shareholders     -$86,686  -$182,360  "
      ]
     },
     "execution_count": 10,
     "metadata": {},
     "output_type": "execute_result"
    }
   ],
   "source": [
    "df"
   ]
  },
  {
   "cell_type": "code",
   "execution_count": 16,
   "id": "217ed905",
   "metadata": {},
   "outputs": [],
   "source": [
    "df.to_csv('finances.csv', index=True)"
   ]
  },
  {
   "cell_type": "code",
   "execution_count": null,
   "id": "729b286d",
   "metadata": {},
   "outputs": [],
   "source": []
  }
 ],
 "metadata": {
  "kernelspec": {
   "display_name": "Python 3 (ipykernel)",
   "language": "python",
   "name": "python3"
  },
  "language_info": {
   "codemirror_mode": {
    "name": "ipython",
    "version": 3
   },
   "file_extension": ".py",
   "mimetype": "text/x-python",
   "name": "python",
   "nbconvert_exporter": "python",
   "pygments_lexer": "ipython3",
   "version": "3.9.16"
  }
 },
 "nbformat": 4,
 "nbformat_minor": 5
}
