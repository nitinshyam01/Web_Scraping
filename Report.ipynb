{
 "cells": [
  {
   "cell_type": "markdown",
   "id": "695dbc02",
   "metadata": {},
   "source": [
    "# Internship Assignment \n",
    "## AI/ML Intern "
   ]
  },
  {
   "cell_type": "markdown",
   "id": "22fe8329",
   "metadata": {},
   "source": [
    "## Cainoo Basic Info"
   ]
  },
  {
   "cell_type": "markdown",
   "id": "b69bf480",
   "metadata": {},
   "source": [
    "Canoo Inc. is an American automotive company based in Torrance, California, that develops and manufactures electric vehicles. Canoo's research & development team is based in Michigan, in the Detroit region (Auburn Hills, Livonia), and production operations are in Justin, Texas. The company also plans to produce commercial electric vehicles such as vans for fleet, vehicle rental and ride sharing services.\n",
    "\n",
    "Canoo was founded in 2017 under the name Evelozcity by Stefan Krause and Ulrich Kranz. Krause worked for Deutsche Bank as its chief financial officer while Kranz worked for BMW as a senior executive. Both men met at rival EV company Faraday Future before leaving together to form their own company in 2017, due to disagreement with Faraday Future's leadership. Krause took on the role of chief executive officer at Evelozcity, and Kranz became chief technology officer. The company received its primary funding from Chinese investor Li \"David\" Pak-Tam/Botan and German entrepreneur David Stern.\n"
   ]
  },
  {
   "cell_type": "markdown",
   "id": "a99d6947",
   "metadata": {},
   "source": [
    "**Vision**\n",
    "Canoo's mission is to bring EVs to Everyone. The company has developed breakthrough Multi-Purpose Platforms and digital ecosystems that are reinventing the automotive landscape with bold innovations in design, pioneering technologies, and a unique business model that spans the full lifecycle of the vehicle.\",\n",
    "Distinguished by its experienced team from leading technology and automotive companies. Canoo has designed a modular electric platform purpose-built to deliver maximum vehicle interior space that is customizable across all owners in the vehicle lifecycle to support a wide range of vehicle applications for consumers and businesses."
   ]
  },
  {
   "cell_type": "markdown",
   "id": "2655e959",
   "metadata": {},
   "source": [
    "**Profile**\n",
    "Developer of multiple categories of electric vehicles. The company design and develops multiple categories of electric vehicles like lifestyle vehicles, MPDVs, pickup trucks, cars, and more.\n",
    "\n",
    "**Key Investors:-**\n",
    "['Yageo Corporation', 'Small Business Administration', 'AFV Partners']\n",
    "\n",
    "**Directors:-**\n",
    "['Stefan Krause', 'Ulrich Kranz', 'Karl-Thomas Neumann']\n",
    "\n",
    "**Annual Revenue:-**\n",
    "$2.55M as on Dec 31, 2020\n",
    "\n",
    "**No of Employees:-**\n",
    "800 as on Dec 31, 2021\n",
    "\n",
    "**Competetors:-**\n",
    "['Tesla', 'Lucid', 'Carvolution']"
   ]
  },
  {
   "cell_type": "markdown",
   "id": "ab0f1420",
   "metadata": {},
   "source": [
    "## Competetors Info\n",
    "In the United States, there is a diverse array of electric vehicle (EV) companies, ranging from emerging startups to long-established automakers. These American EV companies lead the way in innovation and technological advancements, focusing their efforts on improving batteries, motors, and charging infrastructure. With the growing interest in EVs among the American population, these companies are strategically positioned to seize the opportunities presented by the expanding market. The EV industry in the USA is thriving, witnessing the rise of new EV companies and electric car manufacturers. Noteworthy contenders such as Tesla, Rivian, and Lucid Motors have firmly established their presence in the American EV industry. Provided below is a compilation of the top 10 Electric Vehicle companies in the USA:\n",
    " \n",
    "**Tesla**\n",
    "\n",
    "Tesla, an American electric vehicle (EV) company, holds a prominent position as the frontrunner in the EV industry. Established in 2003 by technology magnate Elon Musk, the company has gained recognition for its cutting-edge and top-notch EVs. With a staggering 179,050 units sold in the first half of 2020, Tesla claims a dominant market share of 28% globally. Consumers eagerly seek out Tesla’s automobiles due to their groundbreaking technology, contemporary aesthetics, and impressive performance.\n",
    "\n",
    "**Lucid Motors**\n",
    "\n",
    "Lucid Motors, a pure-play manufacturer, has garnered widespread attention and recognition with its Lucid Air, which earned the prestigious title of Motor Trend Car of the Year 2022. The vehicle has also been honoured with several other accolades, such as being named the longest-range car, the fastest-charging car, and the most advanced electric car of the year. Lucid Motors has left an indelible mark in the industry, captivating audiences with its exceptional electric vehicle offering."
   ]
  },
  {
   "cell_type": "markdown",
   "id": "9eeb1331",
   "metadata": {},
   "source": [
    "## Recent Market Trends\n"
   ]
  },
  {
   "cell_type": "markdown",
   "id": "690919af",
   "metadata": {},
   "source": [
    "As we step into 2024, big changes are happening in the EV industry and the electrification of transportation. Electric vehicle trends for 2024 include lower electric car prices, an expansion of EV charging stations, and greater EV charging plug compatibility. Read on to learn about EV industry trends and how they're shaping the future of the electric vehicle market in the coming year.\n",
    "\n",
    "Sales are expected to keep growing in 2024, despite some reports suggesting a decline in 2023. Even though more EVs are sitting unsold at dealerships, the actual electric car sales numbers are still strong and their market share is growing.There will be nearly 1.9 million EV sales in the U.S. in 2024, according to projections.\n",
    "\n",
    "The third quarter of 2023 showed the best market growth in EV sales since late 2021, and by September, over 1 million new EVs were sold in 2023. Though EV sales estimates for 2024were adjusted down a bit, they still predict a 20% increase from 2023. Cox Automotive also thinks that in 2024, more than 10% of all vehicle sales will be electric, and when including hybrid vehicles, almost 24% of 2024 vehicle sales will be electric or hybrid.\n",
    "\n",
    "EV sales in 2024 are expected to be highest in China, followed by Europe, North America, South Korea, and Japan. In fact, six out of every ten EV sales globally are from China, where intensifying competition is driving down costs and manufacturer profits. Historically, EV sales have increased annually, and this trend is expected to continue throughout 2024.\n",
    " "
   ]
  },
  {
   "cell_type": "markdown",
   "id": "f19c62cf",
   "metadata": {},
   "source": [
    "There are numerous EVs available for under $40,000in 2024, especially after applying the federal EV tax credit. Although some car shoppers are priced out of the EV market, prices of electric passenger cars will continue to decrease for some models due to technology advancements. For example, as automakers enhance their battery technologies and formulations, it's anticipated that EV battery prices will decrease.\n",
    "\n",
    "\n",
    "This improvement allows for both extended battery ranges and reduced costs. Considering that batteries make up around 40% of an EV’s total cost, reducing battery expenses is likely to significantly decrease the overall price of EVs, contributing to increased electric car sales. Thus, increasing affordability is an important electric vehicle industry trend for 2024.\n",
    "\n",
    "Indeed EV charging station infrastructure isn’t evenly distributed across the U.S., and California leads the way in the amount of EV charging stations, with more than 10,000 DC fast chargers. Yet, studies showthat many Americans are wary of buying an EV due to charging issues.\n",
    "\n",
    "Consumers need access to safe, reliable, convenient and affordable charging to drive and own an EV, and our research shows real concerns remain,” said Marc Coltelli, EY Americas eMobility Energy Leader. “At the EY organization, we are predicting 82 million EVs will be on US roads by 2035. To scale adoption, the challenge confronting America’s transition to EVs is instilling charging confidence among consumers. The energy industry has a massive role to play in this transition and is seizing the opportunity by collaborating cross-sector to build and power a resilient EV charging network.\n",
    "\n",
    "Some achievements during 2023 will lay the groundwork for advances in charging infrastructure for the EV industry. These efforts will shape electric vehicle trends for 2024.\n",
    "\n",
    " One major advancement in EV charging relates to the charging ports on EVs, but a series of announcements in 2023 show signs of progress. A joint announcement by seven automakers, including Ford, General Motors, Honda, Mercedes, Nissan, Rivian, and Volvo, reveals plans to adopt Tesla's North American Charging Standard (NACS) for their electric vehicles.\n",
    "This move is set to make the Tesla Supercharger network available to customers of these automakers from 2024 onwards. While most electric vehicles in the United States currently use the Combined Charging Station (CCS) charger plug, this shift signifies broader accessibility to Tesla's robust EV charging network.\n",
    "\n",
    "Tesla’s Superchargeris the largest rapid EV charging station network, with over 45,000 chargers in the U.S. A 2023 J.D. Power studyon EV charging infrastructure shows that Tesla owners are relatively happy with the Supercharger network, but their satisfaction declines considerably when using EV charging stations outside the Tesla network.',\n",
    " 'However, Superchargers have historically only been compatible with Tesla vehicles, and the user experience may change when the network is opened up to non-Tesla drivers. It’s difficult to predict if non-Tesla EV drivers will have the same smooth vehicle charging experience when the network becomes available to them.\n",
    " \n",
    "Seven major automakers unveiled plans last year for a collaborative effort to establish a high-powered electric vehicle charging networkspanning North America, featuring 30,000 chargers. BMW Group, General Motors, Honda, Hyundai, Kia, Mercedes-Benz Group, and Stellantis NV are joining forces to enhance the convenience, accessibility, and universal compatibility of EV charging.\n"
   ]
  },
  {
   "cell_type": "markdown",
   "id": "92015584",
   "metadata": {},
   "source": [
    "## Financial Info"
   ]
  },
  {
   "cell_type": "markdown",
   "id": "0163e10e",
   "metadata": {},
   "source": [
    "| Period Ending       | 12-31-22        | 12-31-2021      |12-31-2020       |12-31-2019       |\n",
    "| ---------------     | --------------- | --------------- | --------------- | --------------- |\n",
    "| Total Revenue       | --              | --              |  $2,550         |  --             |\n",
    "\n",
    "\n"
   ]
  },
  {
   "cell_type": "code",
   "execution_count": null,
   "id": "0bfe9f08",
   "metadata": {},
   "outputs": [],
   "source": []
  }
 ],
 "metadata": {
  "kernelspec": {
   "display_name": "Python 3 (ipykernel)",
   "language": "python",
   "name": "python3"
  },
  "language_info": {
   "codemirror_mode": {
    "name": "ipython",
    "version": 3
   },
   "file_extension": ".py",
   "mimetype": "text/x-python",
   "name": "python",
   "nbconvert_exporter": "python",
   "pygments_lexer": "ipython3",
   "version": "3.9.16"
  }
 },
 "nbformat": 4,
 "nbformat_minor": 5
}
